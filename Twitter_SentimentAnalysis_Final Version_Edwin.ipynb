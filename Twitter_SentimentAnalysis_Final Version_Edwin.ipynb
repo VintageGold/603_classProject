{
 "cells": [
  {
   "cell_type": "markdown",
   "metadata": {},
   "source": [
    "## Sentiment Analysis Project for Twitter\n",
    "_____"
   ]
  },
  {
   "cell_type": "markdown",
   "metadata": {},
   "source": [
    "# Twitter Spark Streaming\n",
    "Set up the credentials for a twitter app at https://apps.twitter.com/\n",
    "    "
   ]
  },
  {
   "cell_type": "code",
   "execution_count": 1,
   "metadata": {},
   "outputs": [],
   "source": [
    "import findspark"
   ]
  },
  {
   "cell_type": "code",
   "execution_count": 2,
   "metadata": {},
   "outputs": [],
   "source": [
    "findspark.init()"
   ]
  },
  {
   "cell_type": "code",
   "execution_count": 3,
   "metadata": {},
   "outputs": [],
   "source": [
    "# May cause deprecation warnings, safe to ignore, they aren't errors\n",
    "from pyspark import SparkContext\n",
    "from pyspark.streaming import StreamingContext\n",
    "from pyspark.sql import SQLContext\n",
    "from pyspark.sql.functions import desc"
   ]
  },
  {
   "cell_type": "code",
   "execution_count": 4,
   "metadata": {},
   "outputs": [],
   "source": [
    "# Can only run this once. restart your kernel for any errors.\n",
    "sc = SparkContext()"
   ]
  },
  {
   "cell_type": "code",
   "execution_count": 5,
   "metadata": {},
   "outputs": [],
   "source": [
    "ssc = StreamingContext(sc, 10 )\n",
    "sqlContext = SQLContext(sc)"
   ]
  },
  {
   "cell_type": "code",
   "execution_count": 6,
   "metadata": {},
   "outputs": [],
   "source": [
    "#creating a sockets for the communication with spark\n",
    "socket_stream = ssc.socketTextStream(\"192.168.56.1\", 8081)"
   ]
  },
  {
   "cell_type": "code",
   "execution_count": 7,
   "metadata": {},
   "outputs": [],
   "source": [
    "lines = socket_stream.window( 20 ) # the window seconds we have to wait"
   ]
  },
  {
   "cell_type": "code",
   "execution_count": 8,
   "metadata": {},
   "outputs": [],
   "source": [
    "# cleaning the data coming a with a line and searching for a specific word\n",
    "( lines.flatMap( lambda text: text.split( \"\\n\" )).filter( lambda word: '*' in word ).foreachRDD( lambda rdd: rdd.toDF() ) ) #Lower cases the word\n",
    "#words.saveAsTextFiles('tempFile.txt')"
   ]
  },
  {
   "cell_type": "markdown",
   "metadata": {},
   "source": [
    "### This part is what is going to make a connection with the server \n"
   ]
  },
  {
   "cell_type": "code",
   "execution_count": 9,
   "metadata": {},
   "outputs": [],
   "source": [
    "# vaderSentiment is sentiment analysis function to analyze the tweets\n",
    "from vaderSentiment.vaderSentiment import SentimentIntensityAnalyzer"
   ]
  },
  {
   "cell_type": "code",
   "execution_count": 10,
   "metadata": {},
   "outputs": [],
   "source": [
    "import time\n",
    "from IPython import display\n",
    "import matplotlib.pyplot as plt\n",
    "import seaborn as sns\n",
    "import pandas as pd\n",
    "import numpy as np\n",
    "import tweepy\n",
    "from tweepy import OAuthHandler\n",
    "from tweepy import Stream\n",
    "from tweepy.streaming import StreamListener\n",
    "import socket\n",
    "import json\n",
    "import string\n",
    "import re\n",
    "import nltk\n",
    "from nltk.corpus import stopwords\n",
    "from nltk.tokenize import word_tokenize \n",
    "%matplotlib inline "
   ]
  },
  {
   "cell_type": "code",
   "execution_count": 11,
   "metadata": {},
   "outputs": [],
   "source": [
    "#start the streaming\n",
    "ssc.start()"
   ]
  },
  {
   "cell_type": "markdown",
   "metadata": {},
   "source": [
    "#### Implement the next cell to stop the streaming but make sure to check the server code to see if you got the number of tweets that you need for you analysis. Note: If you want to implement the output using Spark SQL, you will need to implement the next cell"
   ]
  },
  {
   "cell_type": "code",
   "execution_count": 12,
   "metadata": {},
   "outputs": [],
   "source": [
    "#stop the streaming\n",
    "ssc.stop()"
   ]
  },
  {
   "cell_type": "code",
   "execution_count": 13,
   "metadata": {},
   "outputs": [],
   "source": [
    "# writting a file with all the twiting all the data form twitter\n",
    "tweets_data = []\n",
    "# name of file\n",
    "OUTPUT_FILE = \"tempFile.txt\"\n",
    "# readind file. and saving it to tweets list\n",
    "with open(OUTPUT_FILE, \"r\") as tweets_file:\n",
    "    for line in tweets_file:\n",
    "        tweet = json.loads(line)\n",
    "        tweets_data.append(tweet)"
   ]
  },
  {
   "cell_type": "code",
   "execution_count": 14,
   "metadata": {
    "scrolled": true
   },
   "outputs": [
    {
     "data": {
      "text/html": [
       "<div>\n",
       "<style scoped>\n",
       "    .dataframe tbody tr th:only-of-type {\n",
       "        vertical-align: middle;\n",
       "    }\n",
       "\n",
       "    .dataframe tbody tr th {\n",
       "        vertical-align: top;\n",
       "    }\n",
       "\n",
       "    .dataframe thead th {\n",
       "        text-align: right;\n",
       "    }\n",
       "</style>\n",
       "<table border=\"1\" class=\"dataframe\">\n",
       "  <thead>\n",
       "    <tr style=\"text-align: right;\">\n",
       "      <th></th>\n",
       "      <th>user</th>\n",
       "      <th>created_at</th>\n",
       "      <th>text</th>\n",
       "      <th>source</th>\n",
       "    </tr>\n",
       "  </thead>\n",
       "  <tbody>\n",
       "    <tr>\n",
       "      <th>0</th>\n",
       "      <td>{'id': 1331361706660999173, 'id_str': '1331361...</td>\n",
       "      <td>Fri Dec 04 01:49:54 +0000 2020</td>\n",
       "      <td>We take pride in our episodes because they sho...</td>\n",
       "      <td>&lt;a href=\"http://twitter.com/download/android\" ...</td>\n",
       "    </tr>\n",
       "    <tr>\n",
       "      <th>1</th>\n",
       "      <td>{'id': 1171212556226244608, 'id_str': '1171212...</td>\n",
       "      <td>Fri Dec 04 01:49:55 +0000 2020</td>\n",
       "      <td>lee telling me ppl who are openly horny are we...</td>\n",
       "      <td>&lt;a href=\"https://mobile.twitter.com\" rel=\"nofo...</td>\n",
       "    </tr>\n",
       "    <tr>\n",
       "      <th>2</th>\n",
       "      <td>{'id': 1079799676163878912, 'id_str': '1079799...</td>\n",
       "      <td>Fri Dec 04 01:49:56 +0000 2020</td>\n",
       "      <td>Wow!!! @realDonaldTrump is such a LOSER!!! Put...</td>\n",
       "      <td>&lt;a href=\"http://twitter.com/download/iphone\" r...</td>\n",
       "    </tr>\n",
       "    <tr>\n",
       "      <th>3</th>\n",
       "      <td>{'id': 1304602182071640065, 'id_str': '1304602...</td>\n",
       "      <td>Fri Dec 04 01:49:59 +0000 2020</td>\n",
       "      <td>RT @murray_nyc: @realDonaldTrump @dougducey De...</td>\n",
       "      <td>&lt;a href=\"https://mobile.twitter.com\" rel=\"nofo...</td>\n",
       "    </tr>\n",
       "    <tr>\n",
       "      <th>4</th>\n",
       "      <td>{'id': 1321204725623230464, 'id_str': '1321204...</td>\n",
       "      <td>Fri Dec 04 01:50:00 +0000 2020</td>\n",
       "      <td>RT @TCGCardSearch: Dark Charizard Holo 1st Edi...</td>\n",
       "      <td></td>\n",
       "    </tr>\n",
       "  </tbody>\n",
       "</table>\n",
       "</div>"
      ],
      "text/plain": [
       "                                                user  \\\n",
       "0  {'id': 1331361706660999173, 'id_str': '1331361...   \n",
       "1  {'id': 1171212556226244608, 'id_str': '1171212...   \n",
       "2  {'id': 1079799676163878912, 'id_str': '1079799...   \n",
       "3  {'id': 1304602182071640065, 'id_str': '1304602...   \n",
       "4  {'id': 1321204725623230464, 'id_str': '1321204...   \n",
       "\n",
       "                       created_at  \\\n",
       "0  Fri Dec 04 01:49:54 +0000 2020   \n",
       "1  Fri Dec 04 01:49:55 +0000 2020   \n",
       "2  Fri Dec 04 01:49:56 +0000 2020   \n",
       "3  Fri Dec 04 01:49:59 +0000 2020   \n",
       "4  Fri Dec 04 01:50:00 +0000 2020   \n",
       "\n",
       "                                                text  \\\n",
       "0  We take pride in our episodes because they sho...   \n",
       "1  lee telling me ppl who are openly horny are we...   \n",
       "2  Wow!!! @realDonaldTrump is such a LOSER!!! Put...   \n",
       "3  RT @murray_nyc: @realDonaldTrump @dougducey De...   \n",
       "4  RT @TCGCardSearch: Dark Charizard Holo 1st Edi...   \n",
       "\n",
       "                                              source  \n",
       "0  <a href=\"http://twitter.com/download/android\" ...  \n",
       "1  <a href=\"https://mobile.twitter.com\" rel=\"nofo...  \n",
       "2  <a href=\"http://twitter.com/download/iphone\" r...  \n",
       "3  <a href=\"https://mobile.twitter.com\" rel=\"nofo...  \n",
       "4                                                     "
      ]
     },
     "execution_count": 14,
     "metadata": {},
     "output_type": "execute_result"
    }
   ],
   "source": [
    "#creating dataframe\n",
    "dfTwitter = pd.DataFrame(tweets_data, columns=['user', 'created_at', 'text', 'source'])\n",
    "dfTwitter.head()"
   ]
  },
  {
   "cell_type": "code",
   "execution_count": 15,
   "metadata": {},
   "outputs": [],
   "source": [
    "#extract hashtags\n",
    "\n",
    "hashtags = []\n",
    "for i in dfTwitter['text']:\n",
    "    #print(i)\n",
    "    hashtags.append(re.findall(r\"#(\\w+)\", i))\n",
    "    \n",
    "dfTwitter['hashtags'] = hashtags"
   ]
  },
  {
   "cell_type": "code",
   "execution_count": 16,
   "metadata": {},
   "outputs": [
    {
     "data": {
      "text/plain": [
       "count     5001\n",
       "unique     339\n",
       "top         []\n",
       "freq      4162\n",
       "Name: hashtags, dtype: object"
      ]
     },
     "execution_count": 16,
     "metadata": {},
     "output_type": "execute_result"
    }
   ],
   "source": [
    "dfTwitter['hashtags'].describe()"
   ]
  },
  {
   "cell_type": "code",
   "execution_count": 17,
   "metadata": {},
   "outputs": [],
   "source": [
    "def remove_punct(text):\n",
    "    text  = \"\".join([char for char in text if char not in string.punctuation])\n",
    "    return text"
   ]
  },
  {
   "cell_type": "code",
   "execution_count": 18,
   "metadata": {},
   "outputs": [
    {
     "data": {
      "text/html": [
       "<div>\n",
       "<style scoped>\n",
       "    .dataframe tbody tr th:only-of-type {\n",
       "        vertical-align: middle;\n",
       "    }\n",
       "\n",
       "    .dataframe tbody tr th {\n",
       "        vertical-align: top;\n",
       "    }\n",
       "\n",
       "    .dataframe thead th {\n",
       "        text-align: right;\n",
       "    }\n",
       "</style>\n",
       "<table border=\"1\" class=\"dataframe\">\n",
       "  <thead>\n",
       "    <tr style=\"text-align: right;\">\n",
       "      <th></th>\n",
       "      <th>user</th>\n",
       "      <th>created_at</th>\n",
       "      <th>text</th>\n",
       "      <th>source</th>\n",
       "      <th>hashtags</th>\n",
       "    </tr>\n",
       "  </thead>\n",
       "  <tbody>\n",
       "    <tr>\n",
       "      <th>0</th>\n",
       "      <td>{'id': 1331361706660999173, 'id_str': '1331361...</td>\n",
       "      <td>Fri Dec 04 01:49:54 +0000 2020</td>\n",
       "      <td>We take pride in our episodes because they sho...</td>\n",
       "      <td>&lt;a href=\"http://twitter.com/download/android\" ...</td>\n",
       "      <td>[]</td>\n",
       "    </tr>\n",
       "    <tr>\n",
       "      <th>1</th>\n",
       "      <td>{'id': 1171212556226244608, 'id_str': '1171212...</td>\n",
       "      <td>Fri Dec 04 01:49:55 +0000 2020</td>\n",
       "      <td>lee telling me ppl who are openly horny are we...</td>\n",
       "      <td>&lt;a href=\"https://mobile.twitter.com\" rel=\"nofo...</td>\n",
       "      <td>[]</td>\n",
       "    </tr>\n",
       "    <tr>\n",
       "      <th>2</th>\n",
       "      <td>{'id': 1079799676163878912, 'id_str': '1079799...</td>\n",
       "      <td>Fri Dec 04 01:49:56 +0000 2020</td>\n",
       "      <td>Wow realDonaldTrump is such a LOSER Putin’s Ru...</td>\n",
       "      <td>&lt;a href=\"http://twitter.com/download/iphone\" r...</td>\n",
       "      <td>[]</td>\n",
       "    </tr>\n",
       "    <tr>\n",
       "      <th>3</th>\n",
       "      <td>{'id': 1304602182071640065, 'id_str': '1304602...</td>\n",
       "      <td>Fri Dec 04 01:49:59 +0000 2020</td>\n",
       "      <td>RT murraynyc realDonaldTrump dougducey Dear Do...</td>\n",
       "      <td>&lt;a href=\"https://mobile.twitter.com\" rel=\"nofo...</td>\n",
       "      <td>[]</td>\n",
       "    </tr>\n",
       "    <tr>\n",
       "      <th>4</th>\n",
       "      <td>{'id': 1321204725623230464, 'id_str': '1321204...</td>\n",
       "      <td>Fri Dec 04 01:50:00 +0000 2020</td>\n",
       "      <td>RT TCGCardSearch Dark Charizard Holo 1st Editi...</td>\n",
       "      <td></td>\n",
       "      <td>[MINT, Pokemon, eBay, UnitedStates, Auction, T...</td>\n",
       "    </tr>\n",
       "    <tr>\n",
       "      <th>5</th>\n",
       "      <td>{'id': 787783268, 'id_str': '787783268', 'name...</td>\n",
       "      <td>Fri Dec 04 01:50:01 +0000 2020</td>\n",
       "      <td>♌️ As a scientist I respect Dr Hinshaw but fin...</td>\n",
       "      <td>&lt;a href=\"http://twitter.com/#!/download/ipad\" ...</td>\n",
       "      <td>[]</td>\n",
       "    </tr>\n",
       "    <tr>\n",
       "      <th>6</th>\n",
       "      <td>{'id': 173413459, 'id_str': '173413459', 'name...</td>\n",
       "      <td>Fri Dec 04 01:50:02 +0000 2020</td>\n",
       "      <td>MusicLov3rz WW Magazine April is here Featur...</td>\n",
       "      <td>&lt;a href=\"https://www.hootsuite.com\" rel=\"nofol...</td>\n",
       "      <td>[MusicLov3rz, WW, GeraldHarris, ExclusiveInter...</td>\n",
       "    </tr>\n",
       "    <tr>\n",
       "      <th>7</th>\n",
       "      <td>{'id': 2246381850, 'id_str': '2246381850', 'na...</td>\n",
       "      <td>Fri Dec 04 01:50:02 +0000 2020</td>\n",
       "      <td>LetsTalkToTheLord with Host Apostle JohnERo...</td>\n",
       "      <td>&lt;a href=\"https://www.hootsuite.com\" rel=\"nofol...</td>\n",
       "      <td>[LetsTalkToTheLord, Apostle, JohnERoss, Kellie...</td>\n",
       "    </tr>\n",
       "    <tr>\n",
       "      <th>8</th>\n",
       "      <td>{'id': 2248977601, 'id_str': '2248977601', 'na...</td>\n",
       "      <td>Fri Dec 04 01:50:02 +0000 2020</td>\n",
       "      <td>KevinRiley KevinRileymusic returns to MusicLo...</td>\n",
       "      <td>&lt;a href=\"https://www.hootsuite.com\" rel=\"nofol...</td>\n",
       "      <td>[KevinRiley, MusicLov3rz, FrontCover, Exclusiv...</td>\n",
       "    </tr>\n",
       "    <tr>\n",
       "      <th>9</th>\n",
       "      <td>{'id': 342188187, 'id_str': '342188187', 'name...</td>\n",
       "      <td>Fri Dec 04 01:50:03 +0000 2020</td>\n",
       "      <td>Hear our 25 minute podcast with host  LifeCoac...</td>\n",
       "      <td>&lt;a href=\"https://www.hootsuite.com\" rel=\"nofol...</td>\n",
       "      <td>[podcast, LifeCoach]</td>\n",
       "    </tr>\n",
       "  </tbody>\n",
       "</table>\n",
       "</div>"
      ],
      "text/plain": [
       "                                                user  \\\n",
       "0  {'id': 1331361706660999173, 'id_str': '1331361...   \n",
       "1  {'id': 1171212556226244608, 'id_str': '1171212...   \n",
       "2  {'id': 1079799676163878912, 'id_str': '1079799...   \n",
       "3  {'id': 1304602182071640065, 'id_str': '1304602...   \n",
       "4  {'id': 1321204725623230464, 'id_str': '1321204...   \n",
       "5  {'id': 787783268, 'id_str': '787783268', 'name...   \n",
       "6  {'id': 173413459, 'id_str': '173413459', 'name...   \n",
       "7  {'id': 2246381850, 'id_str': '2246381850', 'na...   \n",
       "8  {'id': 2248977601, 'id_str': '2248977601', 'na...   \n",
       "9  {'id': 342188187, 'id_str': '342188187', 'name...   \n",
       "\n",
       "                       created_at  \\\n",
       "0  Fri Dec 04 01:49:54 +0000 2020   \n",
       "1  Fri Dec 04 01:49:55 +0000 2020   \n",
       "2  Fri Dec 04 01:49:56 +0000 2020   \n",
       "3  Fri Dec 04 01:49:59 +0000 2020   \n",
       "4  Fri Dec 04 01:50:00 +0000 2020   \n",
       "5  Fri Dec 04 01:50:01 +0000 2020   \n",
       "6  Fri Dec 04 01:50:02 +0000 2020   \n",
       "7  Fri Dec 04 01:50:02 +0000 2020   \n",
       "8  Fri Dec 04 01:50:02 +0000 2020   \n",
       "9  Fri Dec 04 01:50:03 +0000 2020   \n",
       "\n",
       "                                                text  \\\n",
       "0  We take pride in our episodes because they sho...   \n",
       "1  lee telling me ppl who are openly horny are we...   \n",
       "2  Wow realDonaldTrump is such a LOSER Putin’s Ru...   \n",
       "3  RT murraynyc realDonaldTrump dougducey Dear Do...   \n",
       "4  RT TCGCardSearch Dark Charizard Holo 1st Editi...   \n",
       "5  ♌️ As a scientist I respect Dr Hinshaw but fin...   \n",
       "6    MusicLov3rz WW Magazine April is here Featur...   \n",
       "7     LetsTalkToTheLord with Host Apostle JohnERo...   \n",
       "8   KevinRiley KevinRileymusic returns to MusicLo...   \n",
       "9  Hear our 25 minute podcast with host  LifeCoac...   \n",
       "\n",
       "                                              source  \\\n",
       "0  <a href=\"http://twitter.com/download/android\" ...   \n",
       "1  <a href=\"https://mobile.twitter.com\" rel=\"nofo...   \n",
       "2  <a href=\"http://twitter.com/download/iphone\" r...   \n",
       "3  <a href=\"https://mobile.twitter.com\" rel=\"nofo...   \n",
       "4                                                      \n",
       "5  <a href=\"http://twitter.com/#!/download/ipad\" ...   \n",
       "6  <a href=\"https://www.hootsuite.com\" rel=\"nofol...   \n",
       "7  <a href=\"https://www.hootsuite.com\" rel=\"nofol...   \n",
       "8  <a href=\"https://www.hootsuite.com\" rel=\"nofol...   \n",
       "9  <a href=\"https://www.hootsuite.com\" rel=\"nofol...   \n",
       "\n",
       "                                            hashtags  \n",
       "0                                                 []  \n",
       "1                                                 []  \n",
       "2                                                 []  \n",
       "3                                                 []  \n",
       "4  [MINT, Pokemon, eBay, UnitedStates, Auction, T...  \n",
       "5                                                 []  \n",
       "6  [MusicLov3rz, WW, GeraldHarris, ExclusiveInter...  \n",
       "7  [LetsTalkToTheLord, Apostle, JohnERoss, Kellie...  \n",
       "8  [KevinRiley, MusicLov3rz, FrontCover, Exclusiv...  \n",
       "9                               [podcast, LifeCoach]  "
      ]
     },
     "execution_count": 18,
     "metadata": {},
     "output_type": "execute_result"
    }
   ],
   "source": [
    "dfTwitter['text'] = dfTwitter['text'].apply(lambda x: remove_punct(x))\n",
    "dfTwitter.head(10)"
   ]
  },
  {
   "cell_type": "raw",
   "metadata": {
    "jupyter": {
     "outputs_hidden": true
    }
   },
   "source": [
    "#if we want to check all the tweets\n",
    "for i in dfTwitter['text']:\n",
    "    print(i)"
   ]
  },
  {
   "cell_type": "code",
   "execution_count": 19,
   "metadata": {},
   "outputs": [],
   "source": [
    "#Tag Retweets\n",
    "retweets = []\n",
    "for i in dfTwitter['text']:\n",
    "    if 'RT' in i:\n",
    "        retweets.append(1)\n",
    "    else:\n",
    "        retweets.append(0)\n",
    "dfTwitter['Retweet'] = retweets"
   ]
  },
  {
   "cell_type": "code",
   "execution_count": 24,
   "metadata": {},
   "outputs": [],
   "source": [
    "#cleaning the tweets\n",
    "def remove_pattern(input_txt, pattern):\n",
    "    r = re.findall(pattern, input_txt)\n",
    "    for i in r:\n",
    "        input_txt = re.sub(i, '', input_txt)        \n",
    "    return input_txt\n",
    "def remove_newLine(input_txt, pattern):\n",
    "    r = re.findall(pattern, input_txt)\n",
    "    for i in r:\n",
    "        input_txt = re.sub(i, ' ', input_txt)        \n",
    "    return input_txt\n",
    "def remove_mulSpaces(input_txt, pattern):\n",
    "    r = re.findall(pattern, input_txt)\n",
    "    for i in r:\n",
    "        input_txt = re.sub(i, ' ', input_txt)    \n",
    "    return input_txt\n",
    "def remove_icons(input_txt, pattern):\n",
    "    r = re.findall(pattern, input_txt)\n",
    "    for i in r:\n",
    "        input_txt = re.sub(i, '', input_txt)    \n",
    "    return input_txt\n",
    "def remove_specialCha(input_txt, pattern):\n",
    "    r = re.findall(pattern, input_txt)\n",
    "    for i in r:\n",
    "        input_txt = re.sub(i, '.', input_txt)    \n",
    "    return input_txt\n",
    "def clean_tweets(tweets):\n",
    "    tweets = np.vectorize(remove_icons)(tweets, \"[^\\x00-\\x7F]+\")\n",
    "    #tweets = np.vectorize(remove_specialCha)(tweets, \"\\.+\")\n",
    "    #remove twitter Return handles (RT @xxx:)\n",
    "    tweets = np.vectorize(remove_pattern)(tweets, \"RT @[\\w]*:\") \n",
    "    \n",
    "    #remove twitter handles (@xxx)\n",
    "    tweets = np.vectorize(remove_pattern)(tweets, \"@[\\w]*\")\n",
    "    \n",
    "    #remove URL links (httpxxx)\n",
    "    tweets = np.vectorize(remove_pattern)(tweets, \"https?://[A-Za-z0-9./]*\")\n",
    "    \n",
    "    #remove special characters, numbers, punctuations (except for #)\n",
    "    tweets = np.core.defchararray.replace(tweets, \"[^a-zA-Z]\", \" \")\n",
    "    tweets = np.core.defchararray.replace(tweets, \"*\", \"\")\n",
    "    tweets = np.vectorize(remove_newLine)(tweets, \"\\n\")\n",
    "    tweets = np.vectorize(remove_mulSpaces)(tweets, \" +\")\n",
    "    \n",
    "    return tweets\n"
   ]
  },
  {
   "cell_type": "code",
   "execution_count": 25,
   "metadata": {},
   "outputs": [
    {
     "data": {
      "text/plain": [
       "0    We take pride in our episodes because they sho...\n",
       "1    lee telling me ppl who are openly horny are we...\n",
       "2    Wow realDonaldTrump is such a LOSER Putins Rus...\n",
       "3    RT murraynyc realDonaldTrump dougducey Dear Do...\n",
       "4    RT TCGCardSearch Dark Charizard Holo 1st Editi...\n",
       "Name: text, dtype: object"
      ]
     },
     "execution_count": 25,
     "metadata": {},
     "output_type": "execute_result"
    }
   ],
   "source": [
    "dfTwitter['text'] = clean_tweets(dfTwitter['text'])\n",
    "dfTwitter['text'].head()"
   ]
  },
  {
   "cell_type": "code",
   "execution_count": 26,
   "metadata": {},
   "outputs": [
    {
     "name": "stderr",
     "output_type": "stream",
     "text": [
      "[nltk_data] Downloading package punkt to\n",
      "[nltk_data]     C:\\Users\\15856\\AppData\\Roaming\\nltk_data...\n",
      "[nltk_data]   Package punkt is already up-to-date!\n"
     ]
    }
   ],
   "source": [
    "#remove stopwords and convert create consistent format\n",
    "\n",
    "stop_words = set(stopwords.words('english'))\n",
    "stop_words.add('I')\n",
    "nltk.download('punkt')\n",
    "processed_text = []\n",
    "wordlist = []\n",
    "for i in dfTwitter['text']:\n",
    "    filtered_sentence = []\n",
    "    word_tokens = word_tokenize(i.lower())  \n",
    "\n",
    "    filtered_sentence = [w for w in word_tokens if not w in stop_words] \n",
    "    wordlist.append(filtered_sentence)\n",
    "    processed_text.append(' '.join([str(elem) for elem in filtered_sentence]))\n",
    "dfTwitter['clean_text'] = processed_text\n",
    "dfTwitter['words'] = wordlist"
   ]
  },
  {
   "cell_type": "code",
   "execution_count": 27,
   "metadata": {},
   "outputs": [],
   "source": [
    "analyzer = SentimentIntensityAnalyzer()"
   ]
  },
  {
   "cell_type": "code",
   "execution_count": 28,
   "metadata": {},
   "outputs": [
    {
     "data": {
      "text/html": [
       "<div>\n",
       "<style scoped>\n",
       "    .dataframe tbody tr th:only-of-type {\n",
       "        vertical-align: middle;\n",
       "    }\n",
       "\n",
       "    .dataframe tbody tr th {\n",
       "        vertical-align: top;\n",
       "    }\n",
       "\n",
       "    .dataframe thead th {\n",
       "        text-align: right;\n",
       "    }\n",
       "</style>\n",
       "<table border=\"1\" class=\"dataframe\">\n",
       "  <thead>\n",
       "    <tr style=\"text-align: right;\">\n",
       "      <th></th>\n",
       "      <th>user</th>\n",
       "      <th>created_at</th>\n",
       "      <th>text</th>\n",
       "      <th>source</th>\n",
       "      <th>hashtags</th>\n",
       "      <th>Retweet</th>\n",
       "      <th>clean_text</th>\n",
       "      <th>words</th>\n",
       "    </tr>\n",
       "  </thead>\n",
       "  <tbody>\n",
       "    <tr>\n",
       "      <th>0</th>\n",
       "      <td>{'id': 1331361706660999173, 'id_str': '1331361...</td>\n",
       "      <td>Fri Dec 04 01:49:54 +0000 2020</td>\n",
       "      <td>We take pride in our episodes because they sho...</td>\n",
       "      <td>&lt;a href=\"http://twitter.com/download/android\" ...</td>\n",
       "      <td>[]</td>\n",
       "      <td>0</td>\n",
       "      <td>take pride episodes show real us dont edit epi...</td>\n",
       "      <td>[take, pride, episodes, show, real, us, dont, ...</td>\n",
       "    </tr>\n",
       "    <tr>\n",
       "      <th>1</th>\n",
       "      <td>{'id': 1171212556226244608, 'id_str': '1171212...</td>\n",
       "      <td>Fri Dec 04 01:49:55 +0000 2020</td>\n",
       "      <td>lee telling me ppl who are openly horny are we...</td>\n",
       "      <td>&lt;a href=\"https://mobile.twitter.com\" rel=\"nofo...</td>\n",
       "      <td>[]</td>\n",
       "      <td>0</td>\n",
       "      <td>lee telling ppl openly horny weird like dont p...</td>\n",
       "      <td>[lee, telling, ppl, openly, horny, weird, like...</td>\n",
       "    </tr>\n",
       "    <tr>\n",
       "      <th>2</th>\n",
       "      <td>{'id': 1079799676163878912, 'id_str': '1079799...</td>\n",
       "      <td>Fri Dec 04 01:49:56 +0000 2020</td>\n",
       "      <td>Wow realDonaldTrump is such a LOSER Putins Rus...</td>\n",
       "      <td>&lt;a href=\"http://twitter.com/download/iphone\" r...</td>\n",
       "      <td>[]</td>\n",
       "      <td>0</td>\n",
       "      <td>wow realdonaldtrump loser putins russian agent...</td>\n",
       "      <td>[wow, realdonaldtrump, loser, putins, russian,...</td>\n",
       "    </tr>\n",
       "    <tr>\n",
       "      <th>3</th>\n",
       "      <td>{'id': 1304602182071640065, 'id_str': '1304602...</td>\n",
       "      <td>Fri Dec 04 01:49:59 +0000 2020</td>\n",
       "      <td>RT murraynyc realDonaldTrump dougducey Dear Do...</td>\n",
       "      <td>&lt;a href=\"https://mobile.twitter.com\" rel=\"nofo...</td>\n",
       "      <td>[]</td>\n",
       "      <td>1</td>\n",
       "      <td>rt murraynyc realdonaldtrump dougducey dear do...</td>\n",
       "      <td>[rt, murraynyc, realdonaldtrump, dougducey, de...</td>\n",
       "    </tr>\n",
       "    <tr>\n",
       "      <th>4</th>\n",
       "      <td>{'id': 1321204725623230464, 'id_str': '1321204...</td>\n",
       "      <td>Fri Dec 04 01:50:00 +0000 2020</td>\n",
       "      <td>RT TCGCardSearch Dark Charizard Holo 1st Editi...</td>\n",
       "      <td></td>\n",
       "      <td>[MINT, Pokemon, eBay, UnitedStates, Auction, T...</td>\n",
       "      <td>1</td>\n",
       "      <td>rt tcgcardsearch dark charizard holo 1st editi...</td>\n",
       "      <td>[rt, tcgcardsearch, dark, charizard, holo, 1st...</td>\n",
       "    </tr>\n",
       "  </tbody>\n",
       "</table>\n",
       "</div>"
      ],
      "text/plain": [
       "                                                user  \\\n",
       "0  {'id': 1331361706660999173, 'id_str': '1331361...   \n",
       "1  {'id': 1171212556226244608, 'id_str': '1171212...   \n",
       "2  {'id': 1079799676163878912, 'id_str': '1079799...   \n",
       "3  {'id': 1304602182071640065, 'id_str': '1304602...   \n",
       "4  {'id': 1321204725623230464, 'id_str': '1321204...   \n",
       "\n",
       "                       created_at  \\\n",
       "0  Fri Dec 04 01:49:54 +0000 2020   \n",
       "1  Fri Dec 04 01:49:55 +0000 2020   \n",
       "2  Fri Dec 04 01:49:56 +0000 2020   \n",
       "3  Fri Dec 04 01:49:59 +0000 2020   \n",
       "4  Fri Dec 04 01:50:00 +0000 2020   \n",
       "\n",
       "                                                text  \\\n",
       "0  We take pride in our episodes because they sho...   \n",
       "1  lee telling me ppl who are openly horny are we...   \n",
       "2  Wow realDonaldTrump is such a LOSER Putins Rus...   \n",
       "3  RT murraynyc realDonaldTrump dougducey Dear Do...   \n",
       "4  RT TCGCardSearch Dark Charizard Holo 1st Editi...   \n",
       "\n",
       "                                              source  \\\n",
       "0  <a href=\"http://twitter.com/download/android\" ...   \n",
       "1  <a href=\"https://mobile.twitter.com\" rel=\"nofo...   \n",
       "2  <a href=\"http://twitter.com/download/iphone\" r...   \n",
       "3  <a href=\"https://mobile.twitter.com\" rel=\"nofo...   \n",
       "4                                                      \n",
       "\n",
       "                                            hashtags  Retweet  \\\n",
       "0                                                 []        0   \n",
       "1                                                 []        0   \n",
       "2                                                 []        0   \n",
       "3                                                 []        1   \n",
       "4  [MINT, Pokemon, eBay, UnitedStates, Auction, T...        1   \n",
       "\n",
       "                                          clean_text  \\\n",
       "0  take pride episodes show real us dont edit epi...   \n",
       "1  lee telling ppl openly horny weird like dont p...   \n",
       "2  wow realdonaldtrump loser putins russian agent...   \n",
       "3  rt murraynyc realdonaldtrump dougducey dear do...   \n",
       "4  rt tcgcardsearch dark charizard holo 1st editi...   \n",
       "\n",
       "                                               words  \n",
       "0  [take, pride, episodes, show, real, us, dont, ...  \n",
       "1  [lee, telling, ppl, openly, horny, weird, like...  \n",
       "2  [wow, realdonaldtrump, loser, putins, russian,...  \n",
       "3  [rt, murraynyc, realdonaldtrump, dougducey, de...  \n",
       "4  [rt, tcgcardsearch, dark, charizard, holo, 1st...  "
      ]
     },
     "execution_count": 28,
     "metadata": {},
     "output_type": "execute_result"
    }
   ],
   "source": [
    "dfTwitter.head()"
   ]
  },
  {
   "cell_type": "code",
   "execution_count": 29,
   "metadata": {},
   "outputs": [],
   "source": [
    "# This function is where I perform the sentiment analysis on each tweets form the Spark \n",
    "num = 0\n",
    "myList = []\n",
    "for sentence in dfTwitter['clean_text']:\n",
    "    #print( num, \" \" , analyzer.polarity_scores(sentence))\n",
    "    myList.append(analyzer.polarity_scores(sentence))\n",
    "    num +=1"
   ]
  },
  {
   "cell_type": "code",
   "execution_count": 30,
   "metadata": {},
   "outputs": [
    {
     "data": {
      "text/plain": [
       "5001"
      ]
     },
     "execution_count": 30,
     "metadata": {},
     "output_type": "execute_result"
    }
   ],
   "source": [
    "len(myList)"
   ]
  },
  {
   "cell_type": "code",
   "execution_count": 31,
   "metadata": {},
   "outputs": [],
   "source": [
    "dfTwitter[\"Result\"] =  myList"
   ]
  },
  {
   "cell_type": "code",
   "execution_count": 32,
   "metadata": {},
   "outputs": [
    {
     "data": {
      "text/plain": [
       "user          object\n",
       "created_at    object\n",
       "text          object\n",
       "source        object\n",
       "hashtags      object\n",
       "Retweet        int64\n",
       "clean_text    object\n",
       "words         object\n",
       "Result        object\n",
       "dtype: object"
      ]
     },
     "execution_count": 32,
     "metadata": {},
     "output_type": "execute_result"
    }
   ],
   "source": [
    "dfTwitter.dtypes"
   ]
  },
  {
   "cell_type": "code",
   "execution_count": 33,
   "metadata": {},
   "outputs": [],
   "source": [
    "mydict = dict(dfTwitter[\"Result\"])"
   ]
  },
  {
   "cell_type": "code",
   "execution_count": 34,
   "metadata": {},
   "outputs": [],
   "source": [
    "dfTwitter[\"Analysis Result\"] = 0"
   ]
  },
  {
   "cell_type": "code",
   "execution_count": 35,
   "metadata": {
    "scrolled": true
   },
   "outputs": [
    {
     "name": "stderr",
     "output_type": "stream",
     "text": [
      "C:\\Users\\15856\\anaconda3\\lib\\site-packages\\pandas\\core\\indexing.py:671: SettingWithCopyWarning: \n",
      "A value is trying to be set on a copy of a slice from a DataFrame\n",
      "\n",
      "See the caveats in the documentation: https://pandas.pydata.org/pandas-docs/stable/user_guide/indexing.html#returning-a-view-versus-a-copy\n",
      "  self._setitem_with_indexer(indexer, value)\n"
     ]
    }
   ],
   "source": [
    "# decide sentiment as positive, negative and neutral \n",
    "for i in mydict:\n",
    "    if mydict[i]['compound'] >= 0.05 : \n",
    "#         print (dfTwitter[\"text\"].iloc[i])\n",
    "#         print(\"----Tweet is positive, according to the score\", mydict[i]['pos'])\n",
    "#         print(\"***\", mydict[i], \"***\\n\")\n",
    "        dfTwitter[\"Analysis Result\"].iloc[i]= \"positive\"\n",
    "  \n",
    "    elif mydict[i]['compound'] <= - 0.05 : \n",
    "#         print (dfTwitter[\"text\"].iloc[i])\n",
    "#         print(\"----Tweet is negative, according to the score\", mydict[i]['neg'])\n",
    "#         print(\"***\", mydict[i], \"***\\n\")\n",
    "        dfTwitter[\"Analysis Result\"].iloc[i]= \"negative\"\n",
    "  \n",
    "    else : \n",
    "#         print (dfTwitter[\"text\"].iloc[i])\n",
    "#         print(\"----Tweet is neutral, according to the score\", mydict[i]['neu'])\n",
    "#         print(\"***\", mydict[i], \"***\\n\")\n",
    "        dfTwitter[\"Analysis Result\"].iloc[i]= \"neutral\""
   ]
  },
  {
   "cell_type": "code",
   "execution_count": 36,
   "metadata": {},
   "outputs": [],
   "source": [
    "dfTwitter = dfTwitter.explode('words')\n",
    "dfTwitter = dfTwitter.explode('hashtags')"
   ]
  },
  {
   "cell_type": "code",
   "execution_count": 37,
   "metadata": {},
   "outputs": [],
   "source": [
    "dfTwitter.reset_index(inplace=True)"
   ]
  },
  {
   "cell_type": "code",
   "execution_count": 38,
   "metadata": {},
   "outputs": [
    {
     "data": {
      "text/html": [
       "<div>\n",
       "<style scoped>\n",
       "    .dataframe tbody tr th:only-of-type {\n",
       "        vertical-align: middle;\n",
       "    }\n",
       "\n",
       "    .dataframe tbody tr th {\n",
       "        vertical-align: top;\n",
       "    }\n",
       "\n",
       "    .dataframe thead th {\n",
       "        text-align: right;\n",
       "    }\n",
       "</style>\n",
       "<table border=\"1\" class=\"dataframe\">\n",
       "  <thead>\n",
       "    <tr style=\"text-align: right;\">\n",
       "      <th></th>\n",
       "      <th>TweetID</th>\n",
       "      <th>user</th>\n",
       "      <th>created_at</th>\n",
       "      <th>text</th>\n",
       "      <th>source</th>\n",
       "      <th>hashtags</th>\n",
       "      <th>Retweet</th>\n",
       "      <th>clean_text</th>\n",
       "      <th>words</th>\n",
       "      <th>Result</th>\n",
       "      <th>Analysis Result</th>\n",
       "    </tr>\n",
       "  </thead>\n",
       "  <tbody>\n",
       "    <tr>\n",
       "      <th>0</th>\n",
       "      <td>0</td>\n",
       "      <td>{'id': 1331361706660999173, 'id_str': '1331361...</td>\n",
       "      <td>Fri Dec 04 01:49:54 +0000 2020</td>\n",
       "      <td>We take pride in our episodes because they sho...</td>\n",
       "      <td>&lt;a href=\"http://twitter.com/download/android\" ...</td>\n",
       "      <td>NaN</td>\n",
       "      <td>0</td>\n",
       "      <td>take pride episodes show real us dont edit epi...</td>\n",
       "      <td>take</td>\n",
       "      <td>{'neg': 0.0, 'neu': 0.806, 'pos': 0.194, 'comp...</td>\n",
       "      <td>positive</td>\n",
       "    </tr>\n",
       "    <tr>\n",
       "      <th>1</th>\n",
       "      <td>0</td>\n",
       "      <td>{'id': 1331361706660999173, 'id_str': '1331361...</td>\n",
       "      <td>Fri Dec 04 01:49:54 +0000 2020</td>\n",
       "      <td>We take pride in our episodes because they sho...</td>\n",
       "      <td>&lt;a href=\"http://twitter.com/download/android\" ...</td>\n",
       "      <td>NaN</td>\n",
       "      <td>0</td>\n",
       "      <td>take pride episodes show real us dont edit epi...</td>\n",
       "      <td>pride</td>\n",
       "      <td>{'neg': 0.0, 'neu': 0.806, 'pos': 0.194, 'comp...</td>\n",
       "      <td>positive</td>\n",
       "    </tr>\n",
       "    <tr>\n",
       "      <th>2</th>\n",
       "      <td>0</td>\n",
       "      <td>{'id': 1331361706660999173, 'id_str': '1331361...</td>\n",
       "      <td>Fri Dec 04 01:49:54 +0000 2020</td>\n",
       "      <td>We take pride in our episodes because they sho...</td>\n",
       "      <td>&lt;a href=\"http://twitter.com/download/android\" ...</td>\n",
       "      <td>NaN</td>\n",
       "      <td>0</td>\n",
       "      <td>take pride episodes show real us dont edit epi...</td>\n",
       "      <td>episodes</td>\n",
       "      <td>{'neg': 0.0, 'neu': 0.806, 'pos': 0.194, 'comp...</td>\n",
       "      <td>positive</td>\n",
       "    </tr>\n",
       "    <tr>\n",
       "      <th>3</th>\n",
       "      <td>0</td>\n",
       "      <td>{'id': 1331361706660999173, 'id_str': '1331361...</td>\n",
       "      <td>Fri Dec 04 01:49:54 +0000 2020</td>\n",
       "      <td>We take pride in our episodes because they sho...</td>\n",
       "      <td>&lt;a href=\"http://twitter.com/download/android\" ...</td>\n",
       "      <td>NaN</td>\n",
       "      <td>0</td>\n",
       "      <td>take pride episodes show real us dont edit epi...</td>\n",
       "      <td>show</td>\n",
       "      <td>{'neg': 0.0, 'neu': 0.806, 'pos': 0.194, 'comp...</td>\n",
       "      <td>positive</td>\n",
       "    </tr>\n",
       "    <tr>\n",
       "      <th>4</th>\n",
       "      <td>0</td>\n",
       "      <td>{'id': 1331361706660999173, 'id_str': '1331361...</td>\n",
       "      <td>Fri Dec 04 01:49:54 +0000 2020</td>\n",
       "      <td>We take pride in our episodes because they sho...</td>\n",
       "      <td>&lt;a href=\"http://twitter.com/download/android\" ...</td>\n",
       "      <td>NaN</td>\n",
       "      <td>0</td>\n",
       "      <td>take pride episodes show real us dont edit epi...</td>\n",
       "      <td>real</td>\n",
       "      <td>{'neg': 0.0, 'neu': 0.806, 'pos': 0.194, 'comp...</td>\n",
       "      <td>positive</td>\n",
       "    </tr>\n",
       "    <tr>\n",
       "      <th>...</th>\n",
       "      <td>...</td>\n",
       "      <td>...</td>\n",
       "      <td>...</td>\n",
       "      <td>...</td>\n",
       "      <td>...</td>\n",
       "      <td>...</td>\n",
       "      <td>...</td>\n",
       "      <td>...</td>\n",
       "      <td>...</td>\n",
       "      <td>...</td>\n",
       "      <td>...</td>\n",
       "    </tr>\n",
       "    <tr>\n",
       "      <th>61281</th>\n",
       "      <td>5000</td>\n",
       "      <td>{'id': 1211895835971051522, 'id_str': '1211895...</td>\n",
       "      <td>Fri Dec 04 03:28:43 +0000 2020</td>\n",
       "      <td>u bout dumb as shit sorry</td>\n",
       "      <td>&lt;a href=\"http://twitter.com/download/iphone\" r...</td>\n",
       "      <td>NaN</td>\n",
       "      <td>0</td>\n",
       "      <td>u bout dumb shit sorry</td>\n",
       "      <td>u</td>\n",
       "      <td>{'neg': 0.804, 'neu': 0.196, 'pos': 0.0, 'comp...</td>\n",
       "      <td>negative</td>\n",
       "    </tr>\n",
       "    <tr>\n",
       "      <th>61282</th>\n",
       "      <td>5000</td>\n",
       "      <td>{'id': 1211895835971051522, 'id_str': '1211895...</td>\n",
       "      <td>Fri Dec 04 03:28:43 +0000 2020</td>\n",
       "      <td>u bout dumb as shit sorry</td>\n",
       "      <td>&lt;a href=\"http://twitter.com/download/iphone\" r...</td>\n",
       "      <td>NaN</td>\n",
       "      <td>0</td>\n",
       "      <td>u bout dumb shit sorry</td>\n",
       "      <td>bout</td>\n",
       "      <td>{'neg': 0.804, 'neu': 0.196, 'pos': 0.0, 'comp...</td>\n",
       "      <td>negative</td>\n",
       "    </tr>\n",
       "    <tr>\n",
       "      <th>61283</th>\n",
       "      <td>5000</td>\n",
       "      <td>{'id': 1211895835971051522, 'id_str': '1211895...</td>\n",
       "      <td>Fri Dec 04 03:28:43 +0000 2020</td>\n",
       "      <td>u bout dumb as shit sorry</td>\n",
       "      <td>&lt;a href=\"http://twitter.com/download/iphone\" r...</td>\n",
       "      <td>NaN</td>\n",
       "      <td>0</td>\n",
       "      <td>u bout dumb shit sorry</td>\n",
       "      <td>dumb</td>\n",
       "      <td>{'neg': 0.804, 'neu': 0.196, 'pos': 0.0, 'comp...</td>\n",
       "      <td>negative</td>\n",
       "    </tr>\n",
       "    <tr>\n",
       "      <th>61284</th>\n",
       "      <td>5000</td>\n",
       "      <td>{'id': 1211895835971051522, 'id_str': '1211895...</td>\n",
       "      <td>Fri Dec 04 03:28:43 +0000 2020</td>\n",
       "      <td>u bout dumb as shit sorry</td>\n",
       "      <td>&lt;a href=\"http://twitter.com/download/iphone\" r...</td>\n",
       "      <td>NaN</td>\n",
       "      <td>0</td>\n",
       "      <td>u bout dumb shit sorry</td>\n",
       "      <td>shit</td>\n",
       "      <td>{'neg': 0.804, 'neu': 0.196, 'pos': 0.0, 'comp...</td>\n",
       "      <td>negative</td>\n",
       "    </tr>\n",
       "    <tr>\n",
       "      <th>61285</th>\n",
       "      <td>5000</td>\n",
       "      <td>{'id': 1211895835971051522, 'id_str': '1211895...</td>\n",
       "      <td>Fri Dec 04 03:28:43 +0000 2020</td>\n",
       "      <td>u bout dumb as shit sorry</td>\n",
       "      <td>&lt;a href=\"http://twitter.com/download/iphone\" r...</td>\n",
       "      <td>NaN</td>\n",
       "      <td>0</td>\n",
       "      <td>u bout dumb shit sorry</td>\n",
       "      <td>sorry</td>\n",
       "      <td>{'neg': 0.804, 'neu': 0.196, 'pos': 0.0, 'comp...</td>\n",
       "      <td>negative</td>\n",
       "    </tr>\n",
       "  </tbody>\n",
       "</table>\n",
       "<p>61286 rows × 11 columns</p>\n",
       "</div>"
      ],
      "text/plain": [
       "       TweetID                                               user  \\\n",
       "0            0  {'id': 1331361706660999173, 'id_str': '1331361...   \n",
       "1            0  {'id': 1331361706660999173, 'id_str': '1331361...   \n",
       "2            0  {'id': 1331361706660999173, 'id_str': '1331361...   \n",
       "3            0  {'id': 1331361706660999173, 'id_str': '1331361...   \n",
       "4            0  {'id': 1331361706660999173, 'id_str': '1331361...   \n",
       "...        ...                                                ...   \n",
       "61281     5000  {'id': 1211895835971051522, 'id_str': '1211895...   \n",
       "61282     5000  {'id': 1211895835971051522, 'id_str': '1211895...   \n",
       "61283     5000  {'id': 1211895835971051522, 'id_str': '1211895...   \n",
       "61284     5000  {'id': 1211895835971051522, 'id_str': '1211895...   \n",
       "61285     5000  {'id': 1211895835971051522, 'id_str': '1211895...   \n",
       "\n",
       "                           created_at  \\\n",
       "0      Fri Dec 04 01:49:54 +0000 2020   \n",
       "1      Fri Dec 04 01:49:54 +0000 2020   \n",
       "2      Fri Dec 04 01:49:54 +0000 2020   \n",
       "3      Fri Dec 04 01:49:54 +0000 2020   \n",
       "4      Fri Dec 04 01:49:54 +0000 2020   \n",
       "...                               ...   \n",
       "61281  Fri Dec 04 03:28:43 +0000 2020   \n",
       "61282  Fri Dec 04 03:28:43 +0000 2020   \n",
       "61283  Fri Dec 04 03:28:43 +0000 2020   \n",
       "61284  Fri Dec 04 03:28:43 +0000 2020   \n",
       "61285  Fri Dec 04 03:28:43 +0000 2020   \n",
       "\n",
       "                                                    text  \\\n",
       "0      We take pride in our episodes because they sho...   \n",
       "1      We take pride in our episodes because they sho...   \n",
       "2      We take pride in our episodes because they sho...   \n",
       "3      We take pride in our episodes because they sho...   \n",
       "4      We take pride in our episodes because they sho...   \n",
       "...                                                  ...   \n",
       "61281                          u bout dumb as shit sorry   \n",
       "61282                          u bout dumb as shit sorry   \n",
       "61283                          u bout dumb as shit sorry   \n",
       "61284                          u bout dumb as shit sorry   \n",
       "61285                          u bout dumb as shit sorry   \n",
       "\n",
       "                                                  source hashtags  Retweet  \\\n",
       "0      <a href=\"http://twitter.com/download/android\" ...      NaN        0   \n",
       "1      <a href=\"http://twitter.com/download/android\" ...      NaN        0   \n",
       "2      <a href=\"http://twitter.com/download/android\" ...      NaN        0   \n",
       "3      <a href=\"http://twitter.com/download/android\" ...      NaN        0   \n",
       "4      <a href=\"http://twitter.com/download/android\" ...      NaN        0   \n",
       "...                                                  ...      ...      ...   \n",
       "61281  <a href=\"http://twitter.com/download/iphone\" r...      NaN        0   \n",
       "61282  <a href=\"http://twitter.com/download/iphone\" r...      NaN        0   \n",
       "61283  <a href=\"http://twitter.com/download/iphone\" r...      NaN        0   \n",
       "61284  <a href=\"http://twitter.com/download/iphone\" r...      NaN        0   \n",
       "61285  <a href=\"http://twitter.com/download/iphone\" r...      NaN        0   \n",
       "\n",
       "                                              clean_text     words  \\\n",
       "0      take pride episodes show real us dont edit epi...      take   \n",
       "1      take pride episodes show real us dont edit epi...     pride   \n",
       "2      take pride episodes show real us dont edit epi...  episodes   \n",
       "3      take pride episodes show real us dont edit epi...      show   \n",
       "4      take pride episodes show real us dont edit epi...      real   \n",
       "...                                                  ...       ...   \n",
       "61281                             u bout dumb shit sorry         u   \n",
       "61282                             u bout dumb shit sorry      bout   \n",
       "61283                             u bout dumb shit sorry      dumb   \n",
       "61284                             u bout dumb shit sorry      shit   \n",
       "61285                             u bout dumb shit sorry     sorry   \n",
       "\n",
       "                                                  Result Analysis Result  \n",
       "0      {'neg': 0.0, 'neu': 0.806, 'pos': 0.194, 'comp...        positive  \n",
       "1      {'neg': 0.0, 'neu': 0.806, 'pos': 0.194, 'comp...        positive  \n",
       "2      {'neg': 0.0, 'neu': 0.806, 'pos': 0.194, 'comp...        positive  \n",
       "3      {'neg': 0.0, 'neu': 0.806, 'pos': 0.194, 'comp...        positive  \n",
       "4      {'neg': 0.0, 'neu': 0.806, 'pos': 0.194, 'comp...        positive  \n",
       "...                                                  ...             ...  \n",
       "61281  {'neg': 0.804, 'neu': 0.196, 'pos': 0.0, 'comp...        negative  \n",
       "61282  {'neg': 0.804, 'neu': 0.196, 'pos': 0.0, 'comp...        negative  \n",
       "61283  {'neg': 0.804, 'neu': 0.196, 'pos': 0.0, 'comp...        negative  \n",
       "61284  {'neg': 0.804, 'neu': 0.196, 'pos': 0.0, 'comp...        negative  \n",
       "61285  {'neg': 0.804, 'neu': 0.196, 'pos': 0.0, 'comp...        negative  \n",
       "\n",
       "[61286 rows x 11 columns]"
      ]
     },
     "execution_count": 38,
     "metadata": {},
     "output_type": "execute_result"
    }
   ],
   "source": [
    "dfTwitter.rename({'index':'TweetID'}, axis = 1)"
   ]
  },
  {
   "cell_type": "code",
   "execution_count": 39,
   "metadata": {},
   "outputs": [],
   "source": [
    "import json\n",
    "from pymongo import MongoClient"
   ]
  },
  {
   "cell_type": "code",
   "execution_count": 40,
   "metadata": {},
   "outputs": [],
   "source": [
    "# how to connect to the mongodb instance on the computer with port and addr\n",
    "conn = MongoClient('localhost', 27017)"
   ]
  },
  {
   "cell_type": "code",
   "execution_count": 41,
   "metadata": {},
   "outputs": [
    {
     "name": "stdout",
     "output_type": "stream",
     "text": [
      "{'name': 'Classproject', 'sizeOnDisk': 47337472.0, 'empty': False}\n",
      "{'name': 'admin', 'sizeOnDisk': 184320.0, 'empty': False}\n",
      "{'name': 'config', 'sizeOnDisk': 36864.0, 'empty': False}\n",
      "{'name': 'local', 'sizeOnDisk': 81920.0, 'empty': False}\n"
     ]
    }
   ],
   "source": [
    "# looking for databases on my mongodb\n",
    "cursor = conn.list_databases()\n",
    "for db in cursor:\n",
    "    print(db)"
   ]
  },
  {
   "cell_type": "code",
   "execution_count": 42,
   "metadata": {},
   "outputs": [],
   "source": [
    "# connecting to the database \n",
    "db = conn.ClassprojectFinal"
   ]
  },
  {
   "cell_type": "code",
   "execution_count": 43,
   "metadata": {},
   "outputs": [],
   "source": [
    "# looking for the collecction on this database\n",
    "#print(db.list_collection_names(include_system_collections=False) )"
   ]
  },
  {
   "cell_type": "code",
   "execution_count": 44,
   "metadata": {},
   "outputs": [
    {
     "data": {
      "text/plain": [
       "Index(['index', 'user', 'created_at', 'text', 'source', 'hashtags', 'Retweet',\n",
       "       'clean_text', 'words', 'Result', 'Analysis Result'],\n",
       "      dtype='object')"
      ]
     },
     "execution_count": 44,
     "metadata": {},
     "output_type": "execute_result"
    }
   ],
   "source": [
    "# showing all the columns names\n",
    "dfTwitter.columns"
   ]
  },
  {
   "cell_type": "code",
   "execution_count": 45,
   "metadata": {},
   "outputs": [
    {
     "data": {
      "text/plain": [
       "<pymongo.results.InsertManyResult at 0x1c1a7d615c0>"
      ]
     },
     "execution_count": 45,
     "metadata": {},
     "output_type": "execute_result"
    }
   ],
   "source": [
    "# Inserting data into the mongodb database\n",
    "data_dict= dfTwitter.to_dict(\"records\")\n",
    "db.Tweets.insert_many(data_dict)"
   ]
  },
  {
   "cell_type": "code",
   "execution_count": 46,
   "metadata": {},
   "outputs": [],
   "source": [
    "# presenting the data from mongodb using the result from neutral evaluation. \n",
    "#for x in db.Tweets.find({},{\"_id\":0,\"text\": 1, \"Analysis Result\":\"neutral\"}):\n",
    "#    print(x)"
   ]
  },
  {
   "cell_type": "code",
   "execution_count": 47,
   "metadata": {},
   "outputs": [],
   "source": [
    "from bson.son import SON"
   ]
  },
  {
   "cell_type": "code",
   "execution_count": 48,
   "metadata": {},
   "outputs": [],
   "source": [
    "pipeline = [\n",
    "    {\"$unwind\": \"$Analysis Result\"},\n",
    "    {\"$group\": {\"_id\": \"$Analysis Result\", \"count\": {\"$sum\": 1}}},\n",
    "    {\"$sort\": SON([(\"count\", -1), (\"_id\", -1)])}\n",
    "]"
   ]
  },
  {
   "cell_type": "code",
   "execution_count": 49,
   "metadata": {},
   "outputs": [
    {
     "name": "stdout",
     "output_type": "stream",
     "text": [
      "[{'_id': 'neutral', 'count': 32227},\n",
      " {'_id': 'positive', 'count': 22279},\n",
      " {'_id': 'negative', 'count': 6780}]\n"
     ]
    }
   ],
   "source": [
    "import pprint\n",
    "pprint.pprint(list(db.Tweets.aggregate(pipeline)))"
   ]
  },
  {
   "cell_type": "code",
   "execution_count": 50,
   "metadata": {},
   "outputs": [],
   "source": [
    "#for x in db.Tweets.find({},{\"_id\":0,\"text\": 1, \"Analysis Result\":\"negative\"}):\n",
    "#    print(x)"
   ]
  },
  {
   "cell_type": "code",
   "execution_count": null,
   "metadata": {},
   "outputs": [],
   "source": []
  },
  {
   "cell_type": "code",
   "execution_count": null,
   "metadata": {},
   "outputs": [],
   "source": []
  },
  {
   "cell_type": "code",
   "execution_count": null,
   "metadata": {},
   "outputs": [],
   "source": []
  }
 ],
 "metadata": {
  "anaconda-cloud": {},
  "kernelspec": {
   "display_name": "Python 3",
   "language": "python",
   "name": "python3"
  },
  "language_info": {
   "codemirror_mode": {
    "name": "ipython",
    "version": 3
   },
   "file_extension": ".py",
   "mimetype": "text/x-python",
   "name": "python",
   "nbconvert_exporter": "python",
   "pygments_lexer": "ipython3",
   "version": "3.8.3"
  }
 },
 "nbformat": 4,
 "nbformat_minor": 4
}
