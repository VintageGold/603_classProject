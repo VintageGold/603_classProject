{
 "cells": [
  {
   "cell_type": "markdown",
   "metadata": {},
   "source": [
    "## Sentiment Analysis Project for Twitter\n",
    "_____"
   ]
  },
  {
   "cell_type": "markdown",
   "metadata": {},
   "source": [
    "# Twitter Spark Streaming\n",
    "Set up the credentials for a twitter app at https://apps.twitter.com/\n",
    "    "
   ]
  },
  {
   "cell_type": "code",
   "execution_count": 1,
   "metadata": {},
   "outputs": [],
   "source": [
    "import findspark"
   ]
  },
  {
   "cell_type": "code",
   "execution_count": 2,
   "metadata": {},
   "outputs": [],
   "source": [
    "findspark.init()"
   ]
  },
  {
   "cell_type": "code",
   "execution_count": 3,
   "metadata": {},
   "outputs": [],
   "source": [
    "# May cause deprecation warnings, safe to ignore, they aren't errors\n",
    "from pyspark import SparkContext\n",
    "from pyspark.streaming import StreamingContext\n",
    "from pyspark.sql import SQLContext\n",
    "from pyspark.sql.functions import desc"
   ]
  },
  {
   "cell_type": "code",
   "execution_count": 4,
   "metadata": {},
   "outputs": [],
   "source": [
    "# Can only run this once. restart your kernel for any errors.\n",
    "sc = SparkContext()"
   ]
  },
  {
   "cell_type": "code",
   "execution_count": 5,
   "metadata": {},
   "outputs": [],
   "source": [
    "ssc = StreamingContext(sc, 10 )\n",
    "sqlContext = SQLContext(sc)"
   ]
  },
  {
   "cell_type": "code",
   "execution_count": 6,
   "metadata": {},
   "outputs": [],
   "source": [
    "#creating a sockets for the communication with spark\n",
    "socket_stream = ssc.socketTextStream(\"192.168.56.1\", 8080)"
   ]
  },
  {
   "cell_type": "code",
   "execution_count": 7,
   "metadata": {},
   "outputs": [],
   "source": [
    "lines = socket_stream.window( 20 ) # the window seconds we have to wait"
   ]
  },
  {
   "cell_type": "code",
   "execution_count": 8,
   "metadata": {},
   "outputs": [],
   "source": [
    "# cleaning the data coming a with a line and searching for a specific word\n",
    "( lines.flatMap( lambda text: text.split( \"\\n\" )).filter( lambda word: '*' in word ).foreachRDD( lambda rdd: rdd.toDF() ) ) #Lower cases the word\n",
    "#words.saveAsTextFiles('tempFile.txt')"
   ]
  },
  {
   "cell_type": "markdown",
   "metadata": {},
   "source": [
    "### This part is what is going to make a connection with the server \n"
   ]
  },
  {
   "cell_type": "code",
   "execution_count": 9,
   "metadata": {},
   "outputs": [],
   "source": [
    "# vaderSentiment is sentiment analysis function to analyze the tweets\n",
    "from vaderSentiment.vaderSentiment import SentimentIntensityAnalyzer"
   ]
  },
  {
   "cell_type": "code",
   "execution_count": 10,
   "metadata": {},
   "outputs": [],
   "source": [
    "import time\n",
    "from IPython import display\n",
    "import matplotlib.pyplot as plt\n",
    "import seaborn as sns\n",
    "import pandas as pd\n",
    "import tweepy\n",
    "from tweepy import OAuthHandler\n",
    "from tweepy import Stream\n",
    "from tweepy.streaming import StreamListener\n",
    "import socket\n",
    "import json\n",
    "import string\n",
    "import re\n",
    "%matplotlib inline "
   ]
  },
  {
   "cell_type": "code",
   "execution_count": 11,
   "metadata": {},
   "outputs": [],
   "source": [
    "#start the streaming\n",
    "ssc.start()"
   ]
  },
  {
   "cell_type": "code",
   "execution_count": 12,
   "metadata": {},
   "outputs": [],
   "source": [
    "#stop the streaming\n",
    "ssc.stop()"
   ]
  },
  {
   "cell_type": "code",
   "execution_count": 13,
   "metadata": {},
   "outputs": [],
   "source": [
    "# writting a file with all the twiting all the data form twitter\n",
    "tweets_data = []\n",
    "# name of file\n",
    "OUTPUT_FILE = \"tempFile.txt\"\n",
    "# readind file. and saving it to tweets list\n",
    "with open(OUTPUT_FILE, \"r\") as tweets_file:\n",
    "    for line in tweets_file:\n",
    "        tweet = json.loads(line)\n",
    "        tweets_data.append(tweet)"
   ]
  },
  {
   "cell_type": "code",
   "execution_count": 14,
   "metadata": {
    "scrolled": true
   },
   "outputs": [
    {
     "data": {
      "text/html": [
       "<div>\n",
       "<style scoped>\n",
       "    .dataframe tbody tr th:only-of-type {\n",
       "        vertical-align: middle;\n",
       "    }\n",
       "\n",
       "    .dataframe tbody tr th {\n",
       "        vertical-align: top;\n",
       "    }\n",
       "\n",
       "    .dataframe thead th {\n",
       "        text-align: right;\n",
       "    }\n",
       "</style>\n",
       "<table border=\"1\" class=\"dataframe\">\n",
       "  <thead>\n",
       "    <tr style=\"text-align: right;\">\n",
       "      <th></th>\n",
       "      <th>user</th>\n",
       "      <th>created_at</th>\n",
       "      <th>text</th>\n",
       "      <th>source</th>\n",
       "    </tr>\n",
       "  </thead>\n",
       "  <tbody>\n",
       "    <tr>\n",
       "      <th>0</th>\n",
       "      <td>{'id': 1210574876156813312, 'id_str': '1210574...</td>\n",
       "      <td>Fri Nov 27 19:23:01 +0000 2020</td>\n",
       "      <td>RT @free_lilfairy: the universe: \\n.        ★ ...</td>\n",
       "      <td>&lt;a href=\"http://twitter.com/download/iphone\" r...</td>\n",
       "    </tr>\n",
       "    <tr>\n",
       "      <th>1</th>\n",
       "      <td>{'id': 1231777653859876865, 'id_str': '1231777...</td>\n",
       "      <td>Fri Nov 27 19:23:02 +0000 2020</td>\n",
       "      <td>When looking at all vote batches, the Michigan...</td>\n",
       "      <td>&lt;a href=\"https://mobile.twitter.com\" rel=\"nofo...</td>\n",
       "    </tr>\n",
       "    <tr>\n",
       "      <th>2</th>\n",
       "      <td>{'id': 1086725947074797573, 'id_str': '1086725...</td>\n",
       "      <td>Fri Nov 27 19:23:04 +0000 2020</td>\n",
       "      <td>RT @HOThits1005: 🚨 BLACK FRIDAY DEAL ALERT 🚨\\n...</td>\n",
       "      <td>&lt;a href=\"http://twitter.com/download/iphone\" r...</td>\n",
       "    </tr>\n",
       "    <tr>\n",
       "      <th>3</th>\n",
       "      <td>{'id': 787177201, 'id_str': '787177201', 'name...</td>\n",
       "      <td>Fri Nov 27 19:23:04 +0000 2020</td>\n",
       "      <td>RT @smoleart: Shop update!!! * u * https://t.c...</td>\n",
       "      <td>&lt;a href=\"https://mobile.twitter.com\" rel=\"nofo...</td>\n",
       "    </tr>\n",
       "    <tr>\n",
       "      <th>4</th>\n",
       "      <td>{'id': 368406590, 'id_str': '368406590', 'name...</td>\n",
       "      <td>Fri Nov 27 19:23:04 +0000 2020</td>\n",
       "      <td>RT @KelemenCari: Our next election should look...</td>\n",
       "      <td>&lt;a href=\"http://twitter.com/download/iphone\" r...</td>\n",
       "    </tr>\n",
       "  </tbody>\n",
       "</table>\n",
       "</div>"
      ],
      "text/plain": [
       "                                                user  \\\n",
       "0  {'id': 1210574876156813312, 'id_str': '1210574...   \n",
       "1  {'id': 1231777653859876865, 'id_str': '1231777...   \n",
       "2  {'id': 1086725947074797573, 'id_str': '1086725...   \n",
       "3  {'id': 787177201, 'id_str': '787177201', 'name...   \n",
       "4  {'id': 368406590, 'id_str': '368406590', 'name...   \n",
       "\n",
       "                       created_at  \\\n",
       "0  Fri Nov 27 19:23:01 +0000 2020   \n",
       "1  Fri Nov 27 19:23:02 +0000 2020   \n",
       "2  Fri Nov 27 19:23:04 +0000 2020   \n",
       "3  Fri Nov 27 19:23:04 +0000 2020   \n",
       "4  Fri Nov 27 19:23:04 +0000 2020   \n",
       "\n",
       "                                                text  \\\n",
       "0  RT @free_lilfairy: the universe: \\n.        ★ ...   \n",
       "1  When looking at all vote batches, the Michigan...   \n",
       "2  RT @HOThits1005: 🚨 BLACK FRIDAY DEAL ALERT 🚨\\n...   \n",
       "3  RT @smoleart: Shop update!!! * u * https://t.c...   \n",
       "4  RT @KelemenCari: Our next election should look...   \n",
       "\n",
       "                                              source  \n",
       "0  <a href=\"http://twitter.com/download/iphone\" r...  \n",
       "1  <a href=\"https://mobile.twitter.com\" rel=\"nofo...  \n",
       "2  <a href=\"http://twitter.com/download/iphone\" r...  \n",
       "3  <a href=\"https://mobile.twitter.com\" rel=\"nofo...  \n",
       "4  <a href=\"http://twitter.com/download/iphone\" r...  "
      ]
     },
     "execution_count": 14,
     "metadata": {},
     "output_type": "execute_result"
    }
   ],
   "source": [
    "#creating dataframe\n",
    "dfTwitter = pd.DataFrame(tweets_data, columns=['user', 'created_at', 'text', 'source'])\n",
    "dfTwitter.head()"
   ]
  },
  {
   "cell_type": "code",
   "execution_count": 15,
   "metadata": {},
   "outputs": [],
   "source": [
    "#extract hashtags\n",
    "import re\n",
    "hashtags = []\n",
    "for i in dfTwitter['text']:\n",
    "    #print(i)\n",
    "    hashtags.append(re.findall(r\"#(\\w+)\", i))\n",
    "    \n",
    "dfTwitter['hashtags'] = hashtags"
   ]
  },
  {
   "cell_type": "code",
   "execution_count": 16,
   "metadata": {},
   "outputs": [
    {
     "data": {
      "text/plain": [
       "count     5001\n",
       "unique     312\n",
       "top         []\n",
       "freq      4357\n",
       "Name: hashtags, dtype: object"
      ]
     },
     "execution_count": 16,
     "metadata": {},
     "output_type": "execute_result"
    }
   ],
   "source": [
    "dfTwitter['hashtags'].describe()"
   ]
  },
  {
   "cell_type": "code",
   "execution_count": 17,
   "metadata": {},
   "outputs": [],
   "source": [
    "def remove_punct(text):\n",
    "    text  = \"\".join([char for char in text if char not in string.punctuation])\n",
    "    #text = re.sub('[0-9]+', '', text)\n",
    "    return text"
   ]
  },
  {
   "cell_type": "code",
   "execution_count": 18,
   "metadata": {},
   "outputs": [
    {
     "data": {
      "text/html": [
       "<div>\n",
       "<style scoped>\n",
       "    .dataframe tbody tr th:only-of-type {\n",
       "        vertical-align: middle;\n",
       "    }\n",
       "\n",
       "    .dataframe tbody tr th {\n",
       "        vertical-align: top;\n",
       "    }\n",
       "\n",
       "    .dataframe thead th {\n",
       "        text-align: right;\n",
       "    }\n",
       "</style>\n",
       "<table border=\"1\" class=\"dataframe\">\n",
       "  <thead>\n",
       "    <tr style=\"text-align: right;\">\n",
       "      <th></th>\n",
       "      <th>user</th>\n",
       "      <th>created_at</th>\n",
       "      <th>text</th>\n",
       "      <th>source</th>\n",
       "      <th>hashtags</th>\n",
       "    </tr>\n",
       "  </thead>\n",
       "  <tbody>\n",
       "    <tr>\n",
       "      <th>0</th>\n",
       "      <td>{'id': 1210574876156813312, 'id_str': '1210574...</td>\n",
       "      <td>Fri Nov 27 19:23:01 +0000 2020</td>\n",
       "      <td>RT freelilfairy the universe \\n        ★      ...</td>\n",
       "      <td>&lt;a href=\"http://twitter.com/download/iphone\" r...</td>\n",
       "      <td>[]</td>\n",
       "    </tr>\n",
       "    <tr>\n",
       "      <th>1</th>\n",
       "      <td>{'id': 1231777653859876865, 'id_str': '1231777...</td>\n",
       "      <td>Fri Nov 27 19:23:02 +0000 2020</td>\n",
       "      <td>When looking at all vote batches the Michigan ...</td>\n",
       "      <td>&lt;a href=\"https://mobile.twitter.com\" rel=\"nofo...</td>\n",
       "      <td>[]</td>\n",
       "    </tr>\n",
       "    <tr>\n",
       "      <th>2</th>\n",
       "      <td>{'id': 1086725947074797573, 'id_str': '1086725...</td>\n",
       "      <td>Fri Nov 27 19:23:04 +0000 2020</td>\n",
       "      <td>RT HOThits1005 🚨 BLACK FRIDAY DEAL ALERT 🚨\\n\\n...</td>\n",
       "      <td>&lt;a href=\"http://twitter.com/download/iphone\" r...</td>\n",
       "      <td>[]</td>\n",
       "    </tr>\n",
       "    <tr>\n",
       "      <th>3</th>\n",
       "      <td>{'id': 787177201, 'id_str': '787177201', 'name...</td>\n",
       "      <td>Fri Nov 27 19:23:04 +0000 2020</td>\n",
       "      <td>RT smoleart Shop update  u  httpstco2ATBkC5xMS</td>\n",
       "      <td>&lt;a href=\"https://mobile.twitter.com\" rel=\"nofo...</td>\n",
       "      <td>[]</td>\n",
       "    </tr>\n",
       "    <tr>\n",
       "      <th>4</th>\n",
       "      <td>{'id': 368406590, 'id_str': '368406590', 'name...</td>\n",
       "      <td>Fri Nov 27 19:23:04 +0000 2020</td>\n",
       "      <td>RT KelemenCari Our next election should look l...</td>\n",
       "      <td>&lt;a href=\"http://twitter.com/download/iphone\" r...</td>\n",
       "      <td>[]</td>\n",
       "    </tr>\n",
       "    <tr>\n",
       "      <th>5</th>\n",
       "      <td>{'id': 948050908906221573, 'id_str': '94805090...</td>\n",
       "      <td>Fri Nov 27 19:23:06 +0000 2020</td>\n",
       "      <td>RT YungbludGains if you         \\n      °\\n   ...</td>\n",
       "      <td>&lt;a href=\"http://twitter.com/download/android\" ...</td>\n",
       "      <td>[]</td>\n",
       "    </tr>\n",
       "    <tr>\n",
       "      <th>6</th>\n",
       "      <td>{'id': 1293045413918806021, 'id_str': '1293045...</td>\n",
       "      <td>Fri Nov 27 19:23:07 +0000 2020</td>\n",
       "      <td>RT PrincessAmunra 💰Only 12 a month for you to ...</td>\n",
       "      <td>&lt;a href=\"http://twitter.com/download/iphone\" r...</td>\n",
       "      <td>[]</td>\n",
       "    </tr>\n",
       "    <tr>\n",
       "      <th>7</th>\n",
       "      <td>{'id': 1267158701170995200, 'id_str': '1267158...</td>\n",
       "      <td>Fri Nov 27 19:23:08 +0000 2020</td>\n",
       "      <td>You Gotta Hear  Gretas Teen Rival  httpstcoVtp...</td>\n",
       "      <td>&lt;a href=\"https://mobile.twitter.com\" rel=\"nofo...</td>\n",
       "      <td>[]</td>\n",
       "    </tr>\n",
       "    <tr>\n",
       "      <th>8</th>\n",
       "      <td>{'id': 17947360, 'id_str': '17947360', 'name':...</td>\n",
       "      <td>Fri Nov 27 19:23:08 +0000 2020</td>\n",
       "      <td>AuditTheVote and TeamSidney and MAGA and MAGA2...</td>\n",
       "      <td>&lt;a href=\"http://twitter.com/download/iphone\" r...</td>\n",
       "      <td>[AuditTheVote, TeamSidney, MAGA, MAGA2020, Tea...</td>\n",
       "    </tr>\n",
       "    <tr>\n",
       "      <th>9</th>\n",
       "      <td>{'id': 961533379, 'id_str': '961533379', 'name...</td>\n",
       "      <td>Fri Nov 27 19:23:10 +0000 2020</td>\n",
       "      <td>RT freelilfairy the universe \\n        ★      ...</td>\n",
       "      <td>&lt;a href=\"http://twitter.com/download/iphone\" r...</td>\n",
       "      <td>[]</td>\n",
       "    </tr>\n",
       "  </tbody>\n",
       "</table>\n",
       "</div>"
      ],
      "text/plain": [
       "                                                user  \\\n",
       "0  {'id': 1210574876156813312, 'id_str': '1210574...   \n",
       "1  {'id': 1231777653859876865, 'id_str': '1231777...   \n",
       "2  {'id': 1086725947074797573, 'id_str': '1086725...   \n",
       "3  {'id': 787177201, 'id_str': '787177201', 'name...   \n",
       "4  {'id': 368406590, 'id_str': '368406590', 'name...   \n",
       "5  {'id': 948050908906221573, 'id_str': '94805090...   \n",
       "6  {'id': 1293045413918806021, 'id_str': '1293045...   \n",
       "7  {'id': 1267158701170995200, 'id_str': '1267158...   \n",
       "8  {'id': 17947360, 'id_str': '17947360', 'name':...   \n",
       "9  {'id': 961533379, 'id_str': '961533379', 'name...   \n",
       "\n",
       "                       created_at  \\\n",
       "0  Fri Nov 27 19:23:01 +0000 2020   \n",
       "1  Fri Nov 27 19:23:02 +0000 2020   \n",
       "2  Fri Nov 27 19:23:04 +0000 2020   \n",
       "3  Fri Nov 27 19:23:04 +0000 2020   \n",
       "4  Fri Nov 27 19:23:04 +0000 2020   \n",
       "5  Fri Nov 27 19:23:06 +0000 2020   \n",
       "6  Fri Nov 27 19:23:07 +0000 2020   \n",
       "7  Fri Nov 27 19:23:08 +0000 2020   \n",
       "8  Fri Nov 27 19:23:08 +0000 2020   \n",
       "9  Fri Nov 27 19:23:10 +0000 2020   \n",
       "\n",
       "                                                text  \\\n",
       "0  RT freelilfairy the universe \\n        ★      ...   \n",
       "1  When looking at all vote batches the Michigan ...   \n",
       "2  RT HOThits1005 🚨 BLACK FRIDAY DEAL ALERT 🚨\\n\\n...   \n",
       "3     RT smoleart Shop update  u  httpstco2ATBkC5xMS   \n",
       "4  RT KelemenCari Our next election should look l...   \n",
       "5  RT YungbludGains if you         \\n      °\\n   ...   \n",
       "6  RT PrincessAmunra 💰Only 12 a month for you to ...   \n",
       "7  You Gotta Hear  Gretas Teen Rival  httpstcoVtp...   \n",
       "8  AuditTheVote and TeamSidney and MAGA and MAGA2...   \n",
       "9  RT freelilfairy the universe \\n        ★      ...   \n",
       "\n",
       "                                              source  \\\n",
       "0  <a href=\"http://twitter.com/download/iphone\" r...   \n",
       "1  <a href=\"https://mobile.twitter.com\" rel=\"nofo...   \n",
       "2  <a href=\"http://twitter.com/download/iphone\" r...   \n",
       "3  <a href=\"https://mobile.twitter.com\" rel=\"nofo...   \n",
       "4  <a href=\"http://twitter.com/download/iphone\" r...   \n",
       "5  <a href=\"http://twitter.com/download/android\" ...   \n",
       "6  <a href=\"http://twitter.com/download/iphone\" r...   \n",
       "7  <a href=\"https://mobile.twitter.com\" rel=\"nofo...   \n",
       "8  <a href=\"http://twitter.com/download/iphone\" r...   \n",
       "9  <a href=\"http://twitter.com/download/iphone\" r...   \n",
       "\n",
       "                                            hashtags  \n",
       "0                                                 []  \n",
       "1                                                 []  \n",
       "2                                                 []  \n",
       "3                                                 []  \n",
       "4                                                 []  \n",
       "5                                                 []  \n",
       "6                                                 []  \n",
       "7                                                 []  \n",
       "8  [AuditTheVote, TeamSidney, MAGA, MAGA2020, Tea...  \n",
       "9                                                 []  "
      ]
     },
     "execution_count": 18,
     "metadata": {},
     "output_type": "execute_result"
    }
   ],
   "source": [
    "dfTwitter['text'] = dfTwitter['text'].apply(lambda x: remove_punct(x))\n",
    "dfTwitter.head(10)"
   ]
  },
  {
   "cell_type": "raw",
   "metadata": {
    "jupyter": {
     "outputs_hidden": true
    }
   },
   "source": [
    "#if we want to check all the tweets\n",
    "for i in dfTwitter['text']:\n",
    "    print(i)"
   ]
  },
  {
   "cell_type": "code",
   "execution_count": 19,
   "metadata": {},
   "outputs": [],
   "source": [
    "#Tag Retweets\n",
    "retweets = []\n",
    "for i in dfTwitter['text']:\n",
    "    if 'RT' in i:\n",
    "        retweets.append(1)\n",
    "    else:\n",
    "        retweets.append(0)\n",
    "dfTwitter['Retweet'] = retweets"
   ]
  },
  {
   "cell_type": "code",
   "execution_count": 20,
   "metadata": {},
   "outputs": [
    {
     "name": "stderr",
     "output_type": "stream",
     "text": [
      "[nltk_data] Downloading package punkt to\n",
      "[nltk_data]     C:\\Users\\15856\\AppData\\Roaming\\nltk_data...\n",
      "[nltk_data]   Package punkt is already up-to-date!\n"
     ]
    }
   ],
   "source": [
    "#remove stopwords and convert create consistent format\n",
    "import nltk\n",
    "from nltk.corpus import stopwords\n",
    "from nltk.tokenize import word_tokenize \n",
    "stop_words = set(stopwords.words('english'))\n",
    "stop_words.add('I')\n",
    "nltk.download('punkt')\n",
    "processed_text = []\n",
    "wordlist = []\n",
    "for i in dfTwitter['text']:\n",
    "    filtered_sentence = []\n",
    "    word_tokens = word_tokenize(i.lower())  \n",
    "\n",
    "    filtered_sentence = [w for w in word_tokens if not w in stop_words] \n",
    "    wordlist.append(filtered_sentence)\n",
    "    processed_text.append(' '.join([str(elem) for elem in filtered_sentence]))\n",
    "dfTwitter['clean_text'] = processed_text\n",
    "dfTwitter['words'] = wordlist"
   ]
  },
  {
   "cell_type": "code",
   "execution_count": 21,
   "metadata": {},
   "outputs": [],
   "source": [
    "analyzer = SentimentIntensityAnalyzer()"
   ]
  },
  {
   "cell_type": "code",
   "execution_count": 22,
   "metadata": {},
   "outputs": [
    {
     "data": {
      "text/html": [
       "<div>\n",
       "<style scoped>\n",
       "    .dataframe tbody tr th:only-of-type {\n",
       "        vertical-align: middle;\n",
       "    }\n",
       "\n",
       "    .dataframe tbody tr th {\n",
       "        vertical-align: top;\n",
       "    }\n",
       "\n",
       "    .dataframe thead th {\n",
       "        text-align: right;\n",
       "    }\n",
       "</style>\n",
       "<table border=\"1\" class=\"dataframe\">\n",
       "  <thead>\n",
       "    <tr style=\"text-align: right;\">\n",
       "      <th></th>\n",
       "      <th>user</th>\n",
       "      <th>created_at</th>\n",
       "      <th>text</th>\n",
       "      <th>source</th>\n",
       "      <th>hashtags</th>\n",
       "      <th>Retweet</th>\n",
       "      <th>clean_text</th>\n",
       "      <th>words</th>\n",
       "    </tr>\n",
       "  </thead>\n",
       "  <tbody>\n",
       "    <tr>\n",
       "      <th>0</th>\n",
       "      <td>{'id': 1210574876156813312, 'id_str': '1210574...</td>\n",
       "      <td>Fri Nov 27 19:23:01 +0000 2020</td>\n",
       "      <td>RT freelilfairy the universe \\n        ★      ...</td>\n",
       "      <td>&lt;a href=\"http://twitter.com/download/iphone\" r...</td>\n",
       "      <td>[]</td>\n",
       "      <td>1</td>\n",
       "      <td>rt freelilfairy universe ★ ✨ 🌕 🌍 • • 🪐 •…</td>\n",
       "      <td>[rt, freelilfairy, universe, ★, ✨, 🌕, 🌍, •, •,...</td>\n",
       "    </tr>\n",
       "    <tr>\n",
       "      <th>1</th>\n",
       "      <td>{'id': 1231777653859876865, 'id_str': '1231777...</td>\n",
       "      <td>Fri Nov 27 19:23:02 +0000 2020</td>\n",
       "      <td>When looking at all vote batches the Michigan ...</td>\n",
       "      <td>&lt;a href=\"https://mobile.twitter.com\" rel=\"nofo...</td>\n",
       "      <td>[]</td>\n",
       "      <td>0</td>\n",
       "      <td>looking vote batches michigan 114 631 update f...</td>\n",
       "      <td>[looking, vote, batches, michigan, 114, 631, u...</td>\n",
       "    </tr>\n",
       "    <tr>\n",
       "      <th>2</th>\n",
       "      <td>{'id': 1086725947074797573, 'id_str': '1086725...</td>\n",
       "      <td>Fri Nov 27 19:23:04 +0000 2020</td>\n",
       "      <td>RT HOThits1005 🚨 BLACK FRIDAY DEAL ALERT 🚨\\n\\n...</td>\n",
       "      <td>&lt;a href=\"http://twitter.com/download/iphone\" r...</td>\n",
       "      <td>[]</td>\n",
       "      <td>1</td>\n",
       "      <td>rt hothits1005 🚨 black friday deal alert 🚨 hit...</td>\n",
       "      <td>[rt, hothits1005, 🚨, black, friday, deal, aler...</td>\n",
       "    </tr>\n",
       "    <tr>\n",
       "      <th>3</th>\n",
       "      <td>{'id': 787177201, 'id_str': '787177201', 'name...</td>\n",
       "      <td>Fri Nov 27 19:23:04 +0000 2020</td>\n",
       "      <td>RT smoleart Shop update  u  httpstco2ATBkC5xMS</td>\n",
       "      <td>&lt;a href=\"https://mobile.twitter.com\" rel=\"nofo...</td>\n",
       "      <td>[]</td>\n",
       "      <td>1</td>\n",
       "      <td>rt smoleart shop update u httpstco2atbkc5xms</td>\n",
       "      <td>[rt, smoleart, shop, update, u, httpstco2atbkc...</td>\n",
       "    </tr>\n",
       "    <tr>\n",
       "      <th>4</th>\n",
       "      <td>{'id': 368406590, 'id_str': '368406590', 'name...</td>\n",
       "      <td>Fri Nov 27 19:23:04 +0000 2020</td>\n",
       "      <td>RT KelemenCari Our next election should look l...</td>\n",
       "      <td>&lt;a href=\"http://twitter.com/download/iphone\" r...</td>\n",
       "      <td>[]</td>\n",
       "      <td>1</td>\n",
       "      <td>rt kelemencari next election look like early v...</td>\n",
       "      <td>[rt, kelemencari, next, election, look, like, ...</td>\n",
       "    </tr>\n",
       "  </tbody>\n",
       "</table>\n",
       "</div>"
      ],
      "text/plain": [
       "                                                user  \\\n",
       "0  {'id': 1210574876156813312, 'id_str': '1210574...   \n",
       "1  {'id': 1231777653859876865, 'id_str': '1231777...   \n",
       "2  {'id': 1086725947074797573, 'id_str': '1086725...   \n",
       "3  {'id': 787177201, 'id_str': '787177201', 'name...   \n",
       "4  {'id': 368406590, 'id_str': '368406590', 'name...   \n",
       "\n",
       "                       created_at  \\\n",
       "0  Fri Nov 27 19:23:01 +0000 2020   \n",
       "1  Fri Nov 27 19:23:02 +0000 2020   \n",
       "2  Fri Nov 27 19:23:04 +0000 2020   \n",
       "3  Fri Nov 27 19:23:04 +0000 2020   \n",
       "4  Fri Nov 27 19:23:04 +0000 2020   \n",
       "\n",
       "                                                text  \\\n",
       "0  RT freelilfairy the universe \\n        ★      ...   \n",
       "1  When looking at all vote batches the Michigan ...   \n",
       "2  RT HOThits1005 🚨 BLACK FRIDAY DEAL ALERT 🚨\\n\\n...   \n",
       "3     RT smoleart Shop update  u  httpstco2ATBkC5xMS   \n",
       "4  RT KelemenCari Our next election should look l...   \n",
       "\n",
       "                                              source hashtags  Retweet  \\\n",
       "0  <a href=\"http://twitter.com/download/iphone\" r...       []        1   \n",
       "1  <a href=\"https://mobile.twitter.com\" rel=\"nofo...       []        0   \n",
       "2  <a href=\"http://twitter.com/download/iphone\" r...       []        1   \n",
       "3  <a href=\"https://mobile.twitter.com\" rel=\"nofo...       []        1   \n",
       "4  <a href=\"http://twitter.com/download/iphone\" r...       []        1   \n",
       "\n",
       "                                          clean_text  \\\n",
       "0          rt freelilfairy universe ★ ✨ 🌕 🌍 • • 🪐 •…   \n",
       "1  looking vote batches michigan 114 631 update f...   \n",
       "2  rt hothits1005 🚨 black friday deal alert 🚨 hit...   \n",
       "3       rt smoleart shop update u httpstco2atbkc5xms   \n",
       "4  rt kelemencari next election look like early v...   \n",
       "\n",
       "                                               words  \n",
       "0  [rt, freelilfairy, universe, ★, ✨, 🌕, 🌍, •, •,...  \n",
       "1  [looking, vote, batches, michigan, 114, 631, u...  \n",
       "2  [rt, hothits1005, 🚨, black, friday, deal, aler...  \n",
       "3  [rt, smoleart, shop, update, u, httpstco2atbkc...  \n",
       "4  [rt, kelemencari, next, election, look, like, ...  "
      ]
     },
     "execution_count": 22,
     "metadata": {},
     "output_type": "execute_result"
    }
   ],
   "source": [
    "dfTwitter.head()"
   ]
  },
  {
   "cell_type": "code",
   "execution_count": 23,
   "metadata": {},
   "outputs": [],
   "source": [
    "# This function is where I perform the sentiment analysis on each tweets form the Spark \n",
    "num = 0\n",
    "myList = []\n",
    "for sentence in dfTwitter['clean_text']:\n",
    "    #print( num, \" \" , analyzer.polarity_scores(sentence))\n",
    "    myList.append(analyzer.polarity_scores(sentence))\n",
    "    num +=1"
   ]
  },
  {
   "cell_type": "code",
   "execution_count": 24,
   "metadata": {},
   "outputs": [
    {
     "data": {
      "text/plain": [
       "5001"
      ]
     },
     "execution_count": 24,
     "metadata": {},
     "output_type": "execute_result"
    }
   ],
   "source": [
    "len(myList)"
   ]
  },
  {
   "cell_type": "code",
   "execution_count": 25,
   "metadata": {},
   "outputs": [],
   "source": [
    "dfTwitter[\"Result\"] =  myList"
   ]
  },
  {
   "cell_type": "code",
   "execution_count": 26,
   "metadata": {},
   "outputs": [
    {
     "data": {
      "text/plain": [
       "user          object\n",
       "created_at    object\n",
       "text          object\n",
       "source        object\n",
       "hashtags      object\n",
       "Retweet        int64\n",
       "clean_text    object\n",
       "words         object\n",
       "Result        object\n",
       "dtype: object"
      ]
     },
     "execution_count": 26,
     "metadata": {},
     "output_type": "execute_result"
    }
   ],
   "source": [
    "dfTwitter.dtypes"
   ]
  },
  {
   "cell_type": "code",
   "execution_count": 27,
   "metadata": {},
   "outputs": [],
   "source": [
    "mydict = dict(dfTwitter[\"Result\"])"
   ]
  },
  {
   "cell_type": "code",
   "execution_count": 28,
   "metadata": {},
   "outputs": [],
   "source": [
    "dfTwitter[\"Analysis Result\"] = 0"
   ]
  },
  {
   "cell_type": "code",
   "execution_count": 29,
   "metadata": {
    "scrolled": true
   },
   "outputs": [
    {
     "name": "stderr",
     "output_type": "stream",
     "text": [
      "C:\\Users\\15856\\anaconda3\\lib\\site-packages\\pandas\\core\\indexing.py:671: SettingWithCopyWarning: \n",
      "A value is trying to be set on a copy of a slice from a DataFrame\n",
      "\n",
      "See the caveats in the documentation: https://pandas.pydata.org/pandas-docs/stable/user_guide/indexing.html#returning-a-view-versus-a-copy\n",
      "  self._setitem_with_indexer(indexer, value)\n"
     ]
    }
   ],
   "source": [
    "# decide sentiment as positive, negative and neutral \n",
    "for i in mydict:\n",
    "    if mydict[i]['compound'] >= 0.05 : \n",
    "#         print (dfTwitter[\"text\"].iloc[i])\n",
    "#         print(\"----Tweet is positive, according to the score\", mydict[i]['pos'])\n",
    "#         print(\"***\", mydict[i], \"***\\n\")\n",
    "        dfTwitter[\"Analysis Result\"].iloc[i]= \"positive\"\n",
    "  \n",
    "    elif mydict[i]['compound'] <= - 0.05 : \n",
    "#         print (dfTwitter[\"text\"].iloc[i])\n",
    "#         print(\"----Tweet is negative, according to the score\", mydict[i]['neg'])\n",
    "#         print(\"***\", mydict[i], \"***\\n\")\n",
    "        dfTwitter[\"Analysis Result\"].iloc[i]= \"negative\"\n",
    "  \n",
    "    else : \n",
    "#         print (dfTwitter[\"text\"].iloc[i])\n",
    "#         print(\"----Tweet is neutral, according to the score\", mydict[i]['neu'])\n",
    "#         print(\"***\", mydict[i], \"***\\n\")\n",
    "        dfTwitter[\"Analysis Result\"].iloc[i]= \"neutral\""
   ]
  },
  {
   "cell_type": "code",
   "execution_count": 30,
   "metadata": {},
   "outputs": [],
   "source": [
    "dfTwitter = dfTwitter.explode('words')\n",
    "dfTwitter = dfTwitter.explode('hashtags')"
   ]
  },
  {
   "cell_type": "code",
   "execution_count": 31,
   "metadata": {},
   "outputs": [],
   "source": [
    "dfTwitter.reset_index(inplace=True)"
   ]
  },
  {
   "cell_type": "code",
   "execution_count": 32,
   "metadata": {},
   "outputs": [
    {
     "data": {
      "text/html": [
       "<div>\n",
       "<style scoped>\n",
       "    .dataframe tbody tr th:only-of-type {\n",
       "        vertical-align: middle;\n",
       "    }\n",
       "\n",
       "    .dataframe tbody tr th {\n",
       "        vertical-align: top;\n",
       "    }\n",
       "\n",
       "    .dataframe thead th {\n",
       "        text-align: right;\n",
       "    }\n",
       "</style>\n",
       "<table border=\"1\" class=\"dataframe\">\n",
       "  <thead>\n",
       "    <tr style=\"text-align: right;\">\n",
       "      <th></th>\n",
       "      <th>TweetID</th>\n",
       "      <th>user</th>\n",
       "      <th>created_at</th>\n",
       "      <th>text</th>\n",
       "      <th>source</th>\n",
       "      <th>hashtags</th>\n",
       "      <th>Retweet</th>\n",
       "      <th>clean_text</th>\n",
       "      <th>words</th>\n",
       "      <th>Result</th>\n",
       "      <th>Analysis Result</th>\n",
       "    </tr>\n",
       "  </thead>\n",
       "  <tbody>\n",
       "    <tr>\n",
       "      <th>0</th>\n",
       "      <td>0</td>\n",
       "      <td>{'id': 1210574876156813312, 'id_str': '1210574...</td>\n",
       "      <td>Fri Nov 27 19:23:01 +0000 2020</td>\n",
       "      <td>RT freelilfairy the universe \\n        ★      ...</td>\n",
       "      <td>&lt;a href=\"http://twitter.com/download/iphone\" r...</td>\n",
       "      <td>NaN</td>\n",
       "      <td>1</td>\n",
       "      <td>rt freelilfairy universe ★ ✨ 🌕 🌍 • • 🪐 •…</td>\n",
       "      <td>rt</td>\n",
       "      <td>{'neg': 0.0, 'neu': 0.85, 'pos': 0.15, 'compou...</td>\n",
       "      <td>positive</td>\n",
       "    </tr>\n",
       "    <tr>\n",
       "      <th>1</th>\n",
       "      <td>0</td>\n",
       "      <td>{'id': 1210574876156813312, 'id_str': '1210574...</td>\n",
       "      <td>Fri Nov 27 19:23:01 +0000 2020</td>\n",
       "      <td>RT freelilfairy the universe \\n        ★      ...</td>\n",
       "      <td>&lt;a href=\"http://twitter.com/download/iphone\" r...</td>\n",
       "      <td>NaN</td>\n",
       "      <td>1</td>\n",
       "      <td>rt freelilfairy universe ★ ✨ 🌕 🌍 • • 🪐 •…</td>\n",
       "      <td>freelilfairy</td>\n",
       "      <td>{'neg': 0.0, 'neu': 0.85, 'pos': 0.15, 'compou...</td>\n",
       "      <td>positive</td>\n",
       "    </tr>\n",
       "    <tr>\n",
       "      <th>2</th>\n",
       "      <td>0</td>\n",
       "      <td>{'id': 1210574876156813312, 'id_str': '1210574...</td>\n",
       "      <td>Fri Nov 27 19:23:01 +0000 2020</td>\n",
       "      <td>RT freelilfairy the universe \\n        ★      ...</td>\n",
       "      <td>&lt;a href=\"http://twitter.com/download/iphone\" r...</td>\n",
       "      <td>NaN</td>\n",
       "      <td>1</td>\n",
       "      <td>rt freelilfairy universe ★ ✨ 🌕 🌍 • • 🪐 •…</td>\n",
       "      <td>universe</td>\n",
       "      <td>{'neg': 0.0, 'neu': 0.85, 'pos': 0.15, 'compou...</td>\n",
       "      <td>positive</td>\n",
       "    </tr>\n",
       "    <tr>\n",
       "      <th>3</th>\n",
       "      <td>0</td>\n",
       "      <td>{'id': 1210574876156813312, 'id_str': '1210574...</td>\n",
       "      <td>Fri Nov 27 19:23:01 +0000 2020</td>\n",
       "      <td>RT freelilfairy the universe \\n        ★      ...</td>\n",
       "      <td>&lt;a href=\"http://twitter.com/download/iphone\" r...</td>\n",
       "      <td>NaN</td>\n",
       "      <td>1</td>\n",
       "      <td>rt freelilfairy universe ★ ✨ 🌕 🌍 • • 🪐 •…</td>\n",
       "      <td>★</td>\n",
       "      <td>{'neg': 0.0, 'neu': 0.85, 'pos': 0.15, 'compou...</td>\n",
       "      <td>positive</td>\n",
       "    </tr>\n",
       "    <tr>\n",
       "      <th>4</th>\n",
       "      <td>0</td>\n",
       "      <td>{'id': 1210574876156813312, 'id_str': '1210574...</td>\n",
       "      <td>Fri Nov 27 19:23:01 +0000 2020</td>\n",
       "      <td>RT freelilfairy the universe \\n        ★      ...</td>\n",
       "      <td>&lt;a href=\"http://twitter.com/download/iphone\" r...</td>\n",
       "      <td>NaN</td>\n",
       "      <td>1</td>\n",
       "      <td>rt freelilfairy universe ★ ✨ 🌕 🌍 • • 🪐 •…</td>\n",
       "      <td>✨</td>\n",
       "      <td>{'neg': 0.0, 'neu': 0.85, 'pos': 0.15, 'compou...</td>\n",
       "      <td>positive</td>\n",
       "    </tr>\n",
       "    <tr>\n",
       "      <th>...</th>\n",
       "      <td>...</td>\n",
       "      <td>...</td>\n",
       "      <td>...</td>\n",
       "      <td>...</td>\n",
       "      <td>...</td>\n",
       "      <td>...</td>\n",
       "      <td>...</td>\n",
       "      <td>...</td>\n",
       "      <td>...</td>\n",
       "      <td>...</td>\n",
       "      <td>...</td>\n",
       "    </tr>\n",
       "    <tr>\n",
       "      <th>73205</th>\n",
       "      <td>5000</td>\n",
       "      <td>{'id': 2844739192, 'id_str': '2844739192', 'na...</td>\n",
       "      <td>Fri Nov 27 20:46:14 +0000 2020</td>\n",
       "      <td>RT EntheosShines TO BANNED CONTENT CREATORS \\n...</td>\n",
       "      <td>&lt;a href=\"https://mobile.twitter.com\" rel=\"nofo...</td>\n",
       "      <td>NaN</td>\n",
       "      <td>1</td>\n",
       "      <td>rt entheosshines banned content creators chann...</td>\n",
       "      <td>announce</td>\n",
       "      <td>{'neg': 0.188, 'neu': 0.812, 'pos': 0.0, 'comp...</td>\n",
       "      <td>negative</td>\n",
       "    </tr>\n",
       "    <tr>\n",
       "      <th>73206</th>\n",
       "      <td>5000</td>\n",
       "      <td>{'id': 2844739192, 'id_str': '2844739192', 'na...</td>\n",
       "      <td>Fri Nov 27 20:46:14 +0000 2020</td>\n",
       "      <td>RT EntheosShines TO BANNED CONTENT CREATORS \\n...</td>\n",
       "      <td>&lt;a href=\"https://mobile.twitter.com\" rel=\"nofo...</td>\n",
       "      <td>NaN</td>\n",
       "      <td>1</td>\n",
       "      <td>rt entheosshines banned content creators chann...</td>\n",
       "      <td>anyone</td>\n",
       "      <td>{'neg': 0.188, 'neu': 0.812, 'pos': 0.0, 'comp...</td>\n",
       "      <td>negative</td>\n",
       "    </tr>\n",
       "    <tr>\n",
       "      <th>73207</th>\n",
       "      <td>5000</td>\n",
       "      <td>{'id': 2844739192, 'id_str': '2844739192', 'na...</td>\n",
       "      <td>Fri Nov 27 20:46:14 +0000 2020</td>\n",
       "      <td>RT EntheosShines TO BANNED CONTENT CREATORS \\n...</td>\n",
       "      <td>&lt;a href=\"https://mobile.twitter.com\" rel=\"nofo...</td>\n",
       "      <td>NaN</td>\n",
       "      <td>1</td>\n",
       "      <td>rt entheosshines banned content creators chann...</td>\n",
       "      <td>may</td>\n",
       "      <td>{'neg': 0.188, 'neu': 0.812, 'pos': 0.0, 'comp...</td>\n",
       "      <td>negative</td>\n",
       "    </tr>\n",
       "    <tr>\n",
       "      <th>73208</th>\n",
       "      <td>5000</td>\n",
       "      <td>{'id': 2844739192, 'id_str': '2844739192', 'na...</td>\n",
       "      <td>Fri Nov 27 20:46:14 +0000 2020</td>\n",
       "      <td>RT EntheosShines TO BANNED CONTENT CREATORS \\n...</td>\n",
       "      <td>&lt;a href=\"https://mobile.twitter.com\" rel=\"nofo...</td>\n",
       "      <td>NaN</td>\n",
       "      <td>1</td>\n",
       "      <td>rt entheosshines banned content creators chann...</td>\n",
       "      <td>upload</td>\n",
       "      <td>{'neg': 0.188, 'neu': 0.812, 'pos': 0.0, 'comp...</td>\n",
       "      <td>negative</td>\n",
       "    </tr>\n",
       "    <tr>\n",
       "      <th>73209</th>\n",
       "      <td>5000</td>\n",
       "      <td>{'id': 2844739192, 'id_str': '2844739192', 'na...</td>\n",
       "      <td>Fri Nov 27 20:46:14 +0000 2020</td>\n",
       "      <td>RT EntheosShines TO BANNED CONTENT CREATORS \\n...</td>\n",
       "      <td>&lt;a href=\"https://mobile.twitter.com\" rel=\"nofo...</td>\n",
       "      <td>NaN</td>\n",
       "      <td>1</td>\n",
       "      <td>rt entheosshines banned content creators chann...</td>\n",
       "      <td>vide…</td>\n",
       "      <td>{'neg': 0.188, 'neu': 0.812, 'pos': 0.0, 'comp...</td>\n",
       "      <td>negative</td>\n",
       "    </tr>\n",
       "  </tbody>\n",
       "</table>\n",
       "<p>73210 rows × 11 columns</p>\n",
       "</div>"
      ],
      "text/plain": [
       "       TweetID                                               user  \\\n",
       "0            0  {'id': 1210574876156813312, 'id_str': '1210574...   \n",
       "1            0  {'id': 1210574876156813312, 'id_str': '1210574...   \n",
       "2            0  {'id': 1210574876156813312, 'id_str': '1210574...   \n",
       "3            0  {'id': 1210574876156813312, 'id_str': '1210574...   \n",
       "4            0  {'id': 1210574876156813312, 'id_str': '1210574...   \n",
       "...        ...                                                ...   \n",
       "73205     5000  {'id': 2844739192, 'id_str': '2844739192', 'na...   \n",
       "73206     5000  {'id': 2844739192, 'id_str': '2844739192', 'na...   \n",
       "73207     5000  {'id': 2844739192, 'id_str': '2844739192', 'na...   \n",
       "73208     5000  {'id': 2844739192, 'id_str': '2844739192', 'na...   \n",
       "73209     5000  {'id': 2844739192, 'id_str': '2844739192', 'na...   \n",
       "\n",
       "                           created_at  \\\n",
       "0      Fri Nov 27 19:23:01 +0000 2020   \n",
       "1      Fri Nov 27 19:23:01 +0000 2020   \n",
       "2      Fri Nov 27 19:23:01 +0000 2020   \n",
       "3      Fri Nov 27 19:23:01 +0000 2020   \n",
       "4      Fri Nov 27 19:23:01 +0000 2020   \n",
       "...                               ...   \n",
       "73205  Fri Nov 27 20:46:14 +0000 2020   \n",
       "73206  Fri Nov 27 20:46:14 +0000 2020   \n",
       "73207  Fri Nov 27 20:46:14 +0000 2020   \n",
       "73208  Fri Nov 27 20:46:14 +0000 2020   \n",
       "73209  Fri Nov 27 20:46:14 +0000 2020   \n",
       "\n",
       "                                                    text  \\\n",
       "0      RT freelilfairy the universe \\n        ★      ...   \n",
       "1      RT freelilfairy the universe \\n        ★      ...   \n",
       "2      RT freelilfairy the universe \\n        ★      ...   \n",
       "3      RT freelilfairy the universe \\n        ★      ...   \n",
       "4      RT freelilfairy the universe \\n        ★      ...   \n",
       "...                                                  ...   \n",
       "73205  RT EntheosShines TO BANNED CONTENT CREATORS \\n...   \n",
       "73206  RT EntheosShines TO BANNED CONTENT CREATORS \\n...   \n",
       "73207  RT EntheosShines TO BANNED CONTENT CREATORS \\n...   \n",
       "73208  RT EntheosShines TO BANNED CONTENT CREATORS \\n...   \n",
       "73209  RT EntheosShines TO BANNED CONTENT CREATORS \\n...   \n",
       "\n",
       "                                                  source hashtags  Retweet  \\\n",
       "0      <a href=\"http://twitter.com/download/iphone\" r...      NaN        1   \n",
       "1      <a href=\"http://twitter.com/download/iphone\" r...      NaN        1   \n",
       "2      <a href=\"http://twitter.com/download/iphone\" r...      NaN        1   \n",
       "3      <a href=\"http://twitter.com/download/iphone\" r...      NaN        1   \n",
       "4      <a href=\"http://twitter.com/download/iphone\" r...      NaN        1   \n",
       "...                                                  ...      ...      ...   \n",
       "73205  <a href=\"https://mobile.twitter.com\" rel=\"nofo...      NaN        1   \n",
       "73206  <a href=\"https://mobile.twitter.com\" rel=\"nofo...      NaN        1   \n",
       "73207  <a href=\"https://mobile.twitter.com\" rel=\"nofo...      NaN        1   \n",
       "73208  <a href=\"https://mobile.twitter.com\" rel=\"nofo...      NaN        1   \n",
       "73209  <a href=\"https://mobile.twitter.com\" rel=\"nofo...      NaN        1   \n",
       "\n",
       "                                              clean_text         words  \\\n",
       "0              rt freelilfairy universe ★ ✨ 🌕 🌍 • • 🪐 •…            rt   \n",
       "1              rt freelilfairy universe ★ ✨ 🌕 🌍 • • 🪐 •…  freelilfairy   \n",
       "2              rt freelilfairy universe ★ ✨ 🌕 🌍 • • 🪐 •…      universe   \n",
       "3              rt freelilfairy universe ★ ✨ 🌕 🌍 • • 🪐 •…             ★   \n",
       "4              rt freelilfairy universe ★ ✨ 🌕 🌍 • • 🪐 •…             ✨   \n",
       "...                                                  ...           ...   \n",
       "73205  rt entheosshines banned content creators chann...      announce   \n",
       "73206  rt entheosshines banned content creators chann...        anyone   \n",
       "73207  rt entheosshines banned content creators chann...           may   \n",
       "73208  rt entheosshines banned content creators chann...        upload   \n",
       "73209  rt entheosshines banned content creators chann...         vide…   \n",
       "\n",
       "                                                  Result Analysis Result  \n",
       "0      {'neg': 0.0, 'neu': 0.85, 'pos': 0.15, 'compou...        positive  \n",
       "1      {'neg': 0.0, 'neu': 0.85, 'pos': 0.15, 'compou...        positive  \n",
       "2      {'neg': 0.0, 'neu': 0.85, 'pos': 0.15, 'compou...        positive  \n",
       "3      {'neg': 0.0, 'neu': 0.85, 'pos': 0.15, 'compou...        positive  \n",
       "4      {'neg': 0.0, 'neu': 0.85, 'pos': 0.15, 'compou...        positive  \n",
       "...                                                  ...             ...  \n",
       "73205  {'neg': 0.188, 'neu': 0.812, 'pos': 0.0, 'comp...        negative  \n",
       "73206  {'neg': 0.188, 'neu': 0.812, 'pos': 0.0, 'comp...        negative  \n",
       "73207  {'neg': 0.188, 'neu': 0.812, 'pos': 0.0, 'comp...        negative  \n",
       "73208  {'neg': 0.188, 'neu': 0.812, 'pos': 0.0, 'comp...        negative  \n",
       "73209  {'neg': 0.188, 'neu': 0.812, 'pos': 0.0, 'comp...        negative  \n",
       "\n",
       "[73210 rows x 11 columns]"
      ]
     },
     "execution_count": 32,
     "metadata": {},
     "output_type": "execute_result"
    }
   ],
   "source": [
    "dfTwitter.rename({'index':'TweetID'}, axis = 1)"
   ]
  },
  {
   "cell_type": "code",
   "execution_count": 33,
   "metadata": {},
   "outputs": [],
   "source": [
    "import json\n",
    "from pymongo import MongoClient"
   ]
  },
  {
   "cell_type": "code",
   "execution_count": 34,
   "metadata": {},
   "outputs": [],
   "source": [
    "# how to connect to the mongodb instance on the computer with port and addr\n",
    "conn = MongoClient('localhost', 27017)"
   ]
  },
  {
   "cell_type": "code",
   "execution_count": 35,
   "metadata": {},
   "outputs": [
    {
     "name": "stdout",
     "output_type": "stream",
     "text": [
      "{'name': 'Classproject', 'sizeOnDisk': 31547392.0, 'empty': False}\n",
      "{'name': 'admin', 'sizeOnDisk': 184320.0, 'empty': False}\n",
      "{'name': 'config', 'sizeOnDisk': 36864.0, 'empty': False}\n",
      "{'name': 'local', 'sizeOnDisk': 81920.0, 'empty': False}\n"
     ]
    }
   ],
   "source": [
    "# looking for databases on my mongodb\n",
    "cursor = conn.list_databases()\n",
    "for db in cursor:\n",
    "    print(db)"
   ]
  },
  {
   "cell_type": "code",
   "execution_count": 36,
   "metadata": {},
   "outputs": [],
   "source": [
    "# connecting to the database \n",
    "db = conn.Classproject"
   ]
  },
  {
   "cell_type": "code",
   "execution_count": 37,
   "metadata": {},
   "outputs": [],
   "source": [
    "# looking for the collecction on this database\n",
    "#print(db.list_collection_names(include_system_collections=False) )"
   ]
  },
  {
   "cell_type": "code",
   "execution_count": 38,
   "metadata": {},
   "outputs": [
    {
     "data": {
      "text/plain": [
       "Index(['index', 'user', 'created_at', 'text', 'source', 'hashtags', 'Retweet',\n",
       "       'clean_text', 'words', 'Result', 'Analysis Result'],\n",
       "      dtype='object')"
      ]
     },
     "execution_count": 38,
     "metadata": {},
     "output_type": "execute_result"
    }
   ],
   "source": [
    "# showing all the columns names\n",
    "dfTwitter.columns"
   ]
  },
  {
   "cell_type": "code",
   "execution_count": 39,
   "metadata": {},
   "outputs": [
    {
     "data": {
      "text/plain": [
       "<pymongo.results.InsertManyResult at 0x1b367580b00>"
      ]
     },
     "execution_count": 39,
     "metadata": {},
     "output_type": "execute_result"
    }
   ],
   "source": [
    "# Inserting data into the mongodb database\n",
    "data_dict= dfTwitter.to_dict(\"records\")\n",
    "db.Tweets.insert_many(data_dict)"
   ]
  },
  {
   "cell_type": "code",
   "execution_count": 40,
   "metadata": {},
   "outputs": [],
   "source": [
    "# presenting the data from mongodb using the result from neutral evaluation. \n",
    "#for x in db.Tweets.find({},{\"_id\":0,\"text\": 1, \"Analysis Result\":\"neutral\"}):\n",
    "#    print(x)"
   ]
  },
  {
   "cell_type": "code",
   "execution_count": 41,
   "metadata": {},
   "outputs": [],
   "source": [
    "from bson.son import SON"
   ]
  },
  {
   "cell_type": "code",
   "execution_count": 42,
   "metadata": {},
   "outputs": [],
   "source": [
    "pipeline = [\n",
    "    {\"$unwind\": \"$Analysis Result\"},\n",
    "    {\"$group\": {\"_id\": \"$Analysis Result\", \"count\": {\"$sum\": 1}}},\n",
    "    {\"$sort\": SON([(\"count\", -1), (\"_id\", -1)])}\n",
    "]"
   ]
  },
  {
   "cell_type": "code",
   "execution_count": 43,
   "metadata": {},
   "outputs": [
    {
     "name": "stdout",
     "output_type": "stream",
     "text": [
      "[{'_id': 'positive', 'count': 109236},\n",
      " {'_id': 'neutral', 'count': 76194},\n",
      " {'_id': 'negative', 'count': 34200}]\n"
     ]
    }
   ],
   "source": [
    "import pprint\n",
    "pprint.pprint(list(db.Tweets.aggregate(pipeline)))"
   ]
  },
  {
   "cell_type": "code",
   "execution_count": 44,
   "metadata": {},
   "outputs": [],
   "source": [
    "#for x in db.Tweets.find({},{\"_id\":0,\"text\": 1, \"Analysis Result\":\"negative\"}):\n",
    "#    print(x)"
   ]
  },
  {
   "cell_type": "code",
   "execution_count": null,
   "metadata": {},
   "outputs": [],
   "source": []
  },
  {
   "cell_type": "code",
   "execution_count": null,
   "metadata": {},
   "outputs": [],
   "source": []
  },
  {
   "cell_type": "code",
   "execution_count": null,
   "metadata": {},
   "outputs": [],
   "source": []
  }
 ],
 "metadata": {
  "anaconda-cloud": {},
  "kernelspec": {
   "display_name": "Python 3",
   "language": "python",
   "name": "python3"
  },
  "language_info": {
   "codemirror_mode": {
    "name": "ipython",
    "version": 3
   },
   "file_extension": ".py",
   "mimetype": "text/x-python",
   "name": "python",
   "nbconvert_exporter": "python",
   "pygments_lexer": "ipython3",
   "version": "3.8.3"
  }
 },
 "nbformat": 4,
 "nbformat_minor": 4
}
