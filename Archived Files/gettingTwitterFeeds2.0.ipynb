{
 "cells": [
  {
   "cell_type": "code",
   "execution_count": null,
   "metadata": {},
   "outputs": [],
   "source": [
    "import socket \n",
    "import sys\n",
    "import requests\n",
    "import requests_oauthlib\n",
    "import json"
   ]
  },
  {
   "cell_type": "code",
   "execution_count": null,
   "metadata": {},
   "outputs": [],
   "source": [
    "import tweepy\n",
    "from tweepy import OAuthHandler\n",
    "from tweepy import Stream\n",
    "from tweepy.streaming import StreamListener\n",
    "import socket\n",
    "\n",
    "import os\n",
    "os.getcwd()\n"
   ]
  },
  {
   "cell_type": "code",
   "execution_count": null,
   "metadata": {},
   "outputs": [],
   "source": [
    "# Replace the values below with yours\n",
    "consumer_key    = 'Your KEY'\n",
    "consumer_secret = 'Your KEY'\n",
    "access_token    = 'Your TOKEN'\n",
    "access_secret   = 'Your TOKEN'\n"
   ]
  },
  {
   "cell_type": "code",
   "execution_count": null,
   "metadata": {},
   "outputs": [],
   "source": [
    "OUTPUT_FILE = \"tempFile.txt\"\n",
    "TWEETS_TO_CAPTURE = 50"
   ]
  },
  {
   "cell_type": "code",
   "execution_count": null,
   "metadata": {},
   "outputs": [],
   "source": [
    "class MyStreamListener(tweepy.StreamListener):\n",
    "\n",
    "    def __init__(self, api=None):\n",
    "        super(MyStreamListener, self).__init__()\n",
    "        self.num_tweets = 0\n",
    "        self.file = open(OUTPUT_FILE, \"w\")\n",
    "\n",
    "    def on_status(self, status):\n",
    "        tweet = status._json\n",
    "        self.file.write( json.dumps(tweet) + '\\n' )\n",
    "        self.num_tweets += 1\n",
    "        print(self.num_tweets)\n",
    "\n",
    "        # Stops streaming when it reaches the limit\n",
    "        if self.num_tweets <= TWEETS_TO_CAPTURE:\n",
    "            return True\n",
    "        else:\n",
    "            return False\n",
    "        self.file.close()\n",
    "\n",
    "    def on_error(self, status):\n",
    "        print(status)"
   ]
  },
  {
   "cell_type": "code",
   "execution_count": null,
   "metadata": {},
   "outputs": [],
   "source": [
    "def send_tweets(c_socket):\n",
    "    auth = OAuthHandler(consumer_key, consumer_secret)\n",
    "    auth.set_access_token(access_token, access_secret)\n",
    "\n",
    "    twitter_stream = Stream(auth, MyStreamListener(c_socket))\n",
    "    twitter_stream.filter(track=['*'],languages=[\"en\"]) # this is the topic we are interested in"
   ]
  },
  {
   "cell_type": "code",
   "execution_count": null,
   "metadata": {},
   "outputs": [],
   "source": [
    "if __name__ == \"__main__\":\n",
    "    new_skt = socket.socket()         # initiate a socket object\n",
    "    host = \"192.168.56.1\"     # local machine address\n",
    "    port = 8080                # specific port for your service.\n",
    "    new_skt.bind((host, port))        # Binding host and port\n",
    "\n",
    "    print(\"Now listening on port: %s\" % str(port))\n",
    "\n",
    "    new_skt.listen(5)                 #  waiting for client connection.\n",
    "    c, addr = new_skt.accept()        # Establish connection with client. it returns first a socket object,c, and the address bound to the socket\n",
    "\n",
    "    print(\"Received request from: \" + str(addr))\n",
    "    # and after accepting the connection, we can send the tweets through the socket\n",
    "    send_tweets(c)\n"
   ]
  },
  {
   "cell_type": "code",
   "execution_count": null,
   "metadata": {},
   "outputs": [],
   "source": []
  },
  {
   "cell_type": "code",
   "execution_count": null,
   "metadata": {},
   "outputs": [],
   "source": []
  }
 ],
 "metadata": {
  "kernelspec": {
   "display_name": "Python 3",
   "language": "python",
   "name": "python3"
  },
  "language_info": {
   "codemirror_mode": {
    "name": "ipython",
    "version": 3
   },
   "file_extension": ".py",
   "mimetype": "text/x-python",
   "name": "python",
   "nbconvert_exporter": "python",
   "pygments_lexer": "ipython3",
   "version": "3.8.3"
  }
 },
 "nbformat": 4,
 "nbformat_minor": 4
}
